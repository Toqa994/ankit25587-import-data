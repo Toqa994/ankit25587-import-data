{
  "cells": [
    {
      "cell_type": "markdown",
      "metadata": {
        "id": "view-in-github",
        "colab_type": "text"
      },
      "source": [
        "<a href=\"https://colab.research.google.com/github/Toqa994/ankit25587-import-data/blob/main/Copy_of_ddos_attack_detection_classification_(1).ipynb\" target=\"_parent\"><img src=\"https://colab.research.google.com/assets/colab-badge.svg\" alt=\"Open In Colab\"/></a>"
      ]
    },
    {
      "cell_type": "code",
      "execution_count": null,
      "metadata": {
        "id": "fKYS96ceVPnG"
      },
      "outputs": [],
      "source": [
        "import pandas as pd\n",
        "import numpy as np\n",
        "\n",
        "import matplotlib.pyplot as plt\n",
        "from matplotlib.pyplot import figure\n",
        "import seaborn as sns\n",
        "\n",
        "from sklearn.metrics import confusion_matrix\n",
        "from sklearn.metrics import accuracy_score\n",
        "from sklearn.metrics import classification_report\n",
        "from sklearn.model_selection import train_test_split\n",
        "from sklearn import metrics\n",
        "from sklearn.model_selection import cross_val_score\n",
        "from sklearn import preprocessing\n",
        "\n",
        "from sklearn.model_selection import cross_val_predict\n",
        "from sklearn.model_selection import GridSearchCV\n",
        "import time\n",
        "\n",
        "from sklearn.tree import DecisionTreeClassifier\n",
        "from sklearn.linear_model import LogisticRegression\n",
        "from sklearn import svm\n",
        "from sklearn.neighbors import KNeighborsClassifier\n",
        "from sklearn.ensemble import RandomForestClassifier\n",
        "\n",
        "from sklearn import metrics"
      ]
    },
    {
      "cell_type": "code",
      "execution_count": null,
      "metadata": {
        "id": "I_WGnIthVPnP"
      },
      "outputs": [],
      "source": [
        "data = pd.read_csv('/content/dataset_sdn.csv')"
      ]
    },
    {
      "cell_type": "markdown",
      "metadata": {
        "id": "0vzAUiklIZlj"
      },
      "source": [
        "# New Section"
      ]
    },
    {
      "cell_type": "markdown",
      "metadata": {
        "id": "EBP0SvucIcQH"
      },
      "source": [
        "# New Section"
      ]
    },
    {
      "cell_type": "markdown",
      "metadata": {
        "id": "lWK6ucbNVPnR"
      },
      "source": [
        "#### I .Data Analysis"
      ]
    },
    {
      "cell_type": "code",
      "execution_count": null,
      "metadata": {
        "colab": {
          "base_uri": "https://localhost:8080/"
        },
        "id": "ttHizQf4VPnX",
        "outputId": "0117d5cf-0a8e-4f17-8226-1b3d184c7b93"
      },
      "outputs": [
        {
          "output_type": "execute_result",
          "data": {
            "text/plain": [
              "      dt  switch       src       dst  pktcount  bytecount  dur   dur_nsec  \\\n",
              "0  11425       1  10.0.0.1  10.0.0.8     45304   48294064  100  716000000   \n",
              "1  11605       1  10.0.0.1  10.0.0.8    126395  134737070  280  734000000   \n",
              "2  11425       1  10.0.0.2  10.0.0.8     90333   96294978  200  744000000   \n",
              "3  11425       1  10.0.0.2  10.0.0.8     90333   96294978  200  744000000   \n",
              "4  11425       1  10.0.0.2  10.0.0.8     90333   96294978  200  744000000   \n",
              "\n",
              "        tot_dur  flows  ...  pktrate  Pairflow  Protocol  port_no   tx_bytes  \\\n",
              "0  1.010000e+11      3  ...      451         0       UDP        3  143928631   \n",
              "1  2.810000e+11      2  ...      451         0       UDP        4       3842   \n",
              "2  2.010000e+11      3  ...      451         0       UDP        1       3795   \n",
              "3  2.010000e+11      3  ...      451         0       UDP        2       3688   \n",
              "4  2.010000e+11      3  ...      451         0       UDP        3       3413   \n",
              "\n",
              "  rx_bytes  tx_kbps  rx_kbps  tot_kbps  label  \n",
              "0     3917        0      0.0       0.0      0  \n",
              "1     3520        0      0.0       0.0      0  \n",
              "2     1242        0      0.0       0.0      0  \n",
              "3     1492        0      0.0       0.0      0  \n",
              "4     3665        0      0.0       0.0      0  \n",
              "\n",
              "[5 rows x 23 columns]"
            ],
            "text/html": [
              "\n",
              "  <div id=\"df-085850ae-47e5-43f4-9527-263b3a95faf2\">\n",
              "    <div class=\"colab-df-container\">\n",
              "      <div>\n",
              "<style scoped>\n",
              "    .dataframe tbody tr th:only-of-type {\n",
              "        vertical-align: middle;\n",
              "    }\n",
              "\n",
              "    .dataframe tbody tr th {\n",
              "        vertical-align: top;\n",
              "    }\n",
              "\n",
              "    .dataframe thead th {\n",
              "        text-align: right;\n",
              "    }\n",
              "</style>\n",
              "<table border=\"1\" class=\"dataframe\">\n",
              "  <thead>\n",
              "    <tr style=\"text-align: right;\">\n",
              "      <th></th>\n",
              "      <th>dt</th>\n",
              "      <th>switch</th>\n",
              "      <th>src</th>\n",
              "      <th>dst</th>\n",
              "      <th>pktcount</th>\n",
              "      <th>bytecount</th>\n",
              "      <th>dur</th>\n",
              "      <th>dur_nsec</th>\n",
              "      <th>tot_dur</th>\n",
              "      <th>flows</th>\n",
              "      <th>...</th>\n",
              "      <th>pktrate</th>\n",
              "      <th>Pairflow</th>\n",
              "      <th>Protocol</th>\n",
              "      <th>port_no</th>\n",
              "      <th>tx_bytes</th>\n",
              "      <th>rx_bytes</th>\n",
              "      <th>tx_kbps</th>\n",
              "      <th>rx_kbps</th>\n",
              "      <th>tot_kbps</th>\n",
              "      <th>label</th>\n",
              "    </tr>\n",
              "  </thead>\n",
              "  <tbody>\n",
              "    <tr>\n",
              "      <th>0</th>\n",
              "      <td>11425</td>\n",
              "      <td>1</td>\n",
              "      <td>10.0.0.1</td>\n",
              "      <td>10.0.0.8</td>\n",
              "      <td>45304</td>\n",
              "      <td>48294064</td>\n",
              "      <td>100</td>\n",
              "      <td>716000000</td>\n",
              "      <td>1.010000e+11</td>\n",
              "      <td>3</td>\n",
              "      <td>...</td>\n",
              "      <td>451</td>\n",
              "      <td>0</td>\n",
              "      <td>UDP</td>\n",
              "      <td>3</td>\n",
              "      <td>143928631</td>\n",
              "      <td>3917</td>\n",
              "      <td>0</td>\n",
              "      <td>0.0</td>\n",
              "      <td>0.0</td>\n",
              "      <td>0</td>\n",
              "    </tr>\n",
              "    <tr>\n",
              "      <th>1</th>\n",
              "      <td>11605</td>\n",
              "      <td>1</td>\n",
              "      <td>10.0.0.1</td>\n",
              "      <td>10.0.0.8</td>\n",
              "      <td>126395</td>\n",
              "      <td>134737070</td>\n",
              "      <td>280</td>\n",
              "      <td>734000000</td>\n",
              "      <td>2.810000e+11</td>\n",
              "      <td>2</td>\n",
              "      <td>...</td>\n",
              "      <td>451</td>\n",
              "      <td>0</td>\n",
              "      <td>UDP</td>\n",
              "      <td>4</td>\n",
              "      <td>3842</td>\n",
              "      <td>3520</td>\n",
              "      <td>0</td>\n",
              "      <td>0.0</td>\n",
              "      <td>0.0</td>\n",
              "      <td>0</td>\n",
              "    </tr>\n",
              "    <tr>\n",
              "      <th>2</th>\n",
              "      <td>11425</td>\n",
              "      <td>1</td>\n",
              "      <td>10.0.0.2</td>\n",
              "      <td>10.0.0.8</td>\n",
              "      <td>90333</td>\n",
              "      <td>96294978</td>\n",
              "      <td>200</td>\n",
              "      <td>744000000</td>\n",
              "      <td>2.010000e+11</td>\n",
              "      <td>3</td>\n",
              "      <td>...</td>\n",
              "      <td>451</td>\n",
              "      <td>0</td>\n",
              "      <td>UDP</td>\n",
              "      <td>1</td>\n",
              "      <td>3795</td>\n",
              "      <td>1242</td>\n",
              "      <td>0</td>\n",
              "      <td>0.0</td>\n",
              "      <td>0.0</td>\n",
              "      <td>0</td>\n",
              "    </tr>\n",
              "    <tr>\n",
              "      <th>3</th>\n",
              "      <td>11425</td>\n",
              "      <td>1</td>\n",
              "      <td>10.0.0.2</td>\n",
              "      <td>10.0.0.8</td>\n",
              "      <td>90333</td>\n",
              "      <td>96294978</td>\n",
              "      <td>200</td>\n",
              "      <td>744000000</td>\n",
              "      <td>2.010000e+11</td>\n",
              "      <td>3</td>\n",
              "      <td>...</td>\n",
              "      <td>451</td>\n",
              "      <td>0</td>\n",
              "      <td>UDP</td>\n",
              "      <td>2</td>\n",
              "      <td>3688</td>\n",
              "      <td>1492</td>\n",
              "      <td>0</td>\n",
              "      <td>0.0</td>\n",
              "      <td>0.0</td>\n",
              "      <td>0</td>\n",
              "    </tr>\n",
              "    <tr>\n",
              "      <th>4</th>\n",
              "      <td>11425</td>\n",
              "      <td>1</td>\n",
              "      <td>10.0.0.2</td>\n",
              "      <td>10.0.0.8</td>\n",
              "      <td>90333</td>\n",
              "      <td>96294978</td>\n",
              "      <td>200</td>\n",
              "      <td>744000000</td>\n",
              "      <td>2.010000e+11</td>\n",
              "      <td>3</td>\n",
              "      <td>...</td>\n",
              "      <td>451</td>\n",
              "      <td>0</td>\n",
              "      <td>UDP</td>\n",
              "      <td>3</td>\n",
              "      <td>3413</td>\n",
              "      <td>3665</td>\n",
              "      <td>0</td>\n",
              "      <td>0.0</td>\n",
              "      <td>0.0</td>\n",
              "      <td>0</td>\n",
              "    </tr>\n",
              "  </tbody>\n",
              "</table>\n",
              "<p>5 rows × 23 columns</p>\n",
              "</div>\n",
              "      <button class=\"colab-df-convert\" onclick=\"convertToInteractive('df-085850ae-47e5-43f4-9527-263b3a95faf2')\"\n",
              "              title=\"Convert this dataframe to an interactive table.\"\n",
              "              style=\"display:none;\">\n",
              "        \n",
              "  <svg xmlns=\"http://www.w3.org/2000/svg\" height=\"24px\"viewBox=\"0 0 24 24\"\n",
              "       width=\"24px\">\n",
              "    <path d=\"M0 0h24v24H0V0z\" fill=\"none\"/>\n",
              "    <path d=\"M18.56 5.44l.94 2.06.94-2.06 2.06-.94-2.06-.94-.94-2.06-.94 2.06-2.06.94zm-11 1L8.5 8.5l.94-2.06 2.06-.94-2.06-.94L8.5 2.5l-.94 2.06-2.06.94zm10 10l.94 2.06.94-2.06 2.06-.94-2.06-.94-.94-2.06-.94 2.06-2.06.94z\"/><path d=\"M17.41 7.96l-1.37-1.37c-.4-.4-.92-.59-1.43-.59-.52 0-1.04.2-1.43.59L10.3 9.45l-7.72 7.72c-.78.78-.78 2.05 0 2.83L4 21.41c.39.39.9.59 1.41.59.51 0 1.02-.2 1.41-.59l7.78-7.78 2.81-2.81c.8-.78.8-2.07 0-2.86zM5.41 20L4 18.59l7.72-7.72 1.47 1.35L5.41 20z\"/>\n",
              "  </svg>\n",
              "      </button>\n",
              "      \n",
              "  <style>\n",
              "    .colab-df-container {\n",
              "      display:flex;\n",
              "      flex-wrap:wrap;\n",
              "      gap: 12px;\n",
              "    }\n",
              "\n",
              "    .colab-df-convert {\n",
              "      background-color: #E8F0FE;\n",
              "      border: none;\n",
              "      border-radius: 50%;\n",
              "      cursor: pointer;\n",
              "      display: none;\n",
              "      fill: #1967D2;\n",
              "      height: 32px;\n",
              "      padding: 0 0 0 0;\n",
              "      width: 32px;\n",
              "    }\n",
              "\n",
              "    .colab-df-convert:hover {\n",
              "      background-color: #E2EBFA;\n",
              "      box-shadow: 0px 1px 2px rgba(60, 64, 67, 0.3), 0px 1px 3px 1px rgba(60, 64, 67, 0.15);\n",
              "      fill: #174EA6;\n",
              "    }\n",
              "\n",
              "    [theme=dark] .colab-df-convert {\n",
              "      background-color: #3B4455;\n",
              "      fill: #D2E3FC;\n",
              "    }\n",
              "\n",
              "    [theme=dark] .colab-df-convert:hover {\n",
              "      background-color: #434B5C;\n",
              "      box-shadow: 0px 1px 3px 1px rgba(0, 0, 0, 0.15);\n",
              "      filter: drop-shadow(0px 1px 2px rgba(0, 0, 0, 0.3));\n",
              "      fill: #FFFFFF;\n",
              "    }\n",
              "  </style>\n",
              "\n",
              "      <script>\n",
              "        const buttonEl =\n",
              "          document.querySelector('#df-085850ae-47e5-43f4-9527-263b3a95faf2 button.colab-df-convert');\n",
              "        buttonEl.style.display =\n",
              "          google.colab.kernel.accessAllowed ? 'block' : 'none';\n",
              "\n",
              "        async function convertToInteractive(key) {\n",
              "          const element = document.querySelector('#df-085850ae-47e5-43f4-9527-263b3a95faf2');\n",
              "          const dataTable =\n",
              "            await google.colab.kernel.invokeFunction('convertToInteractive',\n",
              "                                                     [key], {});\n",
              "          if (!dataTable) return;\n",
              "\n",
              "          const docLinkHtml = 'Like what you see? Visit the ' +\n",
              "            '<a target=\"_blank\" href=https://colab.research.google.com/notebooks/data_table.ipynb>data table notebook</a>'\n",
              "            + ' to learn more about interactive tables.';\n",
              "          element.innerHTML = '';\n",
              "          dataTable['output_type'] = 'display_data';\n",
              "          await google.colab.output.renderOutput(dataTable, element);\n",
              "          const docLink = document.createElement('div');\n",
              "          docLink.innerHTML = docLinkHtml;\n",
              "          element.appendChild(docLink);\n",
              "        }\n",
              "      </script>\n",
              "    </div>\n",
              "  </div>\n",
              "  "
            ]
          },
          "metadata": {},
          "execution_count": 3
        }
      ],
      "source": [
        "data.head()"
      ]
    },
    {
      "cell_type": "code",
      "execution_count": null,
      "metadata": {
        "colab": {
          "base_uri": "https://localhost:8080/"
        },
        "id": "7kBXKhZWVPnc",
        "outputId": "b9f53167-225a-4171-cb3b-76fe8db432ad"
      },
      "outputs": [
        {
          "output_type": "execute_result",
          "data": {
            "text/plain": [
              "(104345, 23)"
            ]
          },
          "metadata": {},
          "execution_count": 4
        }
      ],
      "source": [
        "data.shape"
      ]
    },
    {
      "cell_type": "code",
      "execution_count": null,
      "metadata": {
        "colab": {
          "base_uri": "https://localhost:8080/"
        },
        "id": "s5yqvx_bVPne",
        "outputId": "4fc38282-da4c-4137-9654-7dba138e674e"
      },
      "outputs": [
        {
          "output_type": "stream",
          "name": "stdout",
          "text": [
            "<class 'pandas.core.frame.DataFrame'>\n",
            "RangeIndex: 104345 entries, 0 to 104344\n",
            "Data columns (total 23 columns):\n",
            " #   Column       Non-Null Count   Dtype  \n",
            "---  ------       --------------   -----  \n",
            " 0   dt           104345 non-null  int64  \n",
            " 1   switch       104345 non-null  int64  \n",
            " 2   src          104345 non-null  object \n",
            " 3   dst          104345 non-null  object \n",
            " 4   pktcount     104345 non-null  int64  \n",
            " 5   bytecount    104345 non-null  int64  \n",
            " 6   dur          104345 non-null  int64  \n",
            " 7   dur_nsec     104345 non-null  int64  \n",
            " 8   tot_dur      104345 non-null  float64\n",
            " 9   flows        104345 non-null  int64  \n",
            " 10  packetins    104345 non-null  int64  \n",
            " 11  pktperflow   104345 non-null  int64  \n",
            " 12  byteperflow  104345 non-null  int64  \n",
            " 13  pktrate      104345 non-null  int64  \n",
            " 14  Pairflow     104345 non-null  int64  \n",
            " 15  Protocol     104345 non-null  object \n",
            " 16  port_no      104345 non-null  int64  \n",
            " 17  tx_bytes     104345 non-null  int64  \n",
            " 18  rx_bytes     104345 non-null  int64  \n",
            " 19  tx_kbps      104345 non-null  int64  \n",
            " 20  rx_kbps      103839 non-null  float64\n",
            " 21  tot_kbps     103839 non-null  float64\n",
            " 22  label        104345 non-null  int64  \n",
            "dtypes: float64(3), int64(17), object(3)\n",
            "memory usage: 18.3+ MB\n"
          ]
        }
      ],
      "source": [
        "data.info()"
      ]
    },
    {
      "cell_type": "code",
      "execution_count": null,
      "metadata": {
        "colab": {
          "base_uri": "https://localhost:8080/"
        },
        "id": "Wo0fMErBVPng",
        "outputId": "d5bbf95b-3b5c-49dd-c7d5-e199aefbd26c"
      },
      "outputs": [
        {
          "output_type": "execute_result",
          "data": {
            "text/plain": [
              "array([0, 1])"
            ]
          },
          "metadata": {},
          "execution_count": 6
        }
      ],
      "source": [
        "##### Here we see that the label contains boolean values: 0 - Benign, 1-Maliciuous \n",
        "data.label.unique()"
      ]
    },
    {
      "cell_type": "code",
      "execution_count": null,
      "metadata": {
        "colab": {
          "base_uri": "https://localhost:8080/"
        },
        "id": "h_vj6-mPVPnk",
        "outputId": "6dd0ecc8-44aa-470e-e8b6-245960a93332"
      },
      "outputs": [
        {
          "output_type": "execute_result",
          "data": {
            "text/plain": [
              "0    63561\n",
              "1    40784\n",
              "Name: label, dtype: int64"
            ]
          },
          "metadata": {},
          "execution_count": 7
        }
      ],
      "source": [
        "data.label.value_counts()"
      ]
    },
    {
      "cell_type": "code",
      "execution_count": null,
      "metadata": {
        "colab": {
          "base_uri": "https://localhost:8080/"
        },
        "id": "pikJIB3bVPnm",
        "outputId": "d524fbb6-a5fe-47eb-bbf0-77b81e322b97"
      },
      "outputs": [
        {
          "output_type": "stream",
          "name": "stderr",
          "text": [
            "/usr/local/lib/python3.7/dist-packages/seaborn/_decorators.py:43: FutureWarning: Pass the following variable as a keyword arg: x. From version 0.12, the only valid positional argument will be `data`, and passing other arguments without an explicit keyword will result in an error or misinterpretation.\n",
            "  FutureWarning\n"
          ]
        },
        {
          "output_type": "execute_result",
          "data": {
            "text/plain": [
              "<matplotlib.axes._subplots.AxesSubplot at 0x7facc93450d0>"
            ]
          },
          "metadata": {},
          "execution_count": 8
        },
        {
          "output_type": "display_data",
          "data": {
            "text/plain": [
              "<Figure size 432x288 with 1 Axes>"
            ],
            "image/png": "[encoded data removed]"
          },
          "metadata": {
            "needs_background": "light"
          }
        }
      ],
      "source": [
        "label_dict = dict(data.label.value_counts())\n",
        "sns.countplot(data.label)"
      ]
    },
    {
      "cell_type": "code",
      "execution_count": null,
      "metadata": {
        "colab": {
          "base_uri": "https://localhost:8080/"
        },
        "id": "nFqLvlWdVPnp",
        "outputId": "fd1ba7a2-9ba9-4101-d9b1-175ada99d9f8"
      },
      "outputs": [
        {
          "output_type": "display_data",
          "data": {
            "text/plain": [
              "<Figure size 936x576 with 1 Axes>"
            ],
            "image/png": "[encoded data removed]"
          },
          "metadata": {}
        }
      ],
      "source": [
        "labels = [\"Maliciuous\",'Benign']\n",
        "sizes = [dict(data.label.value_counts())[0], dict(data.label.value_counts())[1]]\n",
        "plt.figure(figsize = (13,8))\n",
        "plt.pie(sizes, labels=labels, autopct='%1.1f%%',\n",
        "        shadow=True, startangle=90)\n",
        "plt.legend([\"Maliciuous\", \"Benign\"])\n",
        "plt.title('The percentage of Benign and Maliciuos Requests in dataset')\n",
        "plt.show()"
      ]
    },
    {
      "cell_type": "code",
      "execution_count": null,
      "metadata": {
        "colab": {
          "base_uri": "https://localhost:8080/"
        },
        "id": "HXSU1C_GVPnr",
        "outputId": "d104e716-3f68-4750-bb70-d1e0114ea974"
      },
      "outputs": [
        {
          "output_type": "execute_result",
          "data": {
            "text/plain": [
              "                  dt         switch       pktcount     bytecount  \\\n",
              "count  104345.000000  104345.000000  104345.000000  1.043450e+05   \n",
              "mean    17927.514169       4.214260   52860.954746  3.818660e+07   \n",
              "std     11977.642655       1.956327   52023.241460  4.877748e+07   \n",
              "min      2488.000000       1.000000       0.000000  0.000000e+00   \n",
              "25%      7098.000000       3.000000     808.000000  7.957600e+04   \n",
              "50%     11905.000000       4.000000   42828.000000  6.471930e+06   \n",
              "75%     29952.000000       5.000000   94796.000000  7.620354e+07   \n",
              "max     42935.000000      10.000000  260006.000000  1.471280e+08   \n",
              "\n",
              "                 dur      dur_nsec       tot_dur          flows  \\\n",
              "count  104345.000000  1.043450e+05  1.043450e+05  104345.000000   \n",
              "mean      321.497398  4.613880e+08  3.218865e+11       5.654234   \n",
              "std       283.518232  2.770019e+08  2.834029e+11       2.950036   \n",
              "min         0.000000  0.000000e+00  0.000000e+00       2.000000   \n",
              "25%       127.000000  2.340000e+08  1.270000e+11       3.000000   \n",
              "50%       251.000000  4.180000e+08  2.520000e+11       5.000000   \n",
              "75%       412.000000  7.030000e+08  4.130000e+11       7.000000   \n",
              "max      1881.000000  9.990000e+08  1.880000e+12      17.000000   \n",
              "\n",
              "           packetins     pktperflow   byteperflow        pktrate  \\\n",
              "count  104345.000000  104345.000000  1.043450e+05  104345.000000   \n",
              "mean     5200.383468    6381.715291  4.716150e+06     212.210676   \n",
              "std      5257.001450    7404.777808  7.560116e+06     246.855123   \n",
              "min         4.000000 -130933.000000 -1.464426e+08   -4365.000000   \n",
              "25%      1943.000000      29.000000  2.842000e+03       0.000000   \n",
              "50%      3024.000000    8305.000000  5.521680e+05     276.000000   \n",
              "75%      7462.000000   10017.000000  9.728112e+06     333.000000   \n",
              "max     25224.000000   19190.000000  1.495387e+07     639.000000   \n",
              "\n",
              "            Pairflow        port_no      tx_bytes      rx_bytes  \\\n",
              "count  104345.000000  104345.000000  1.043450e+05  1.043450e+05   \n",
              "mean        0.600987       2.331094  9.325264e+07  9.328039e+07   \n",
              "std         0.489698       1.084333  1.519380e+08  1.330004e+08   \n",
              "min         0.000000       1.000000  2.527000e+03  8.560000e+02   \n",
              "25%         0.000000       1.000000  4.743000e+03  3.539000e+03   \n",
              "50%         1.000000       2.000000  4.219610e+06  1.338339e+07   \n",
              "75%         1.000000       3.000000  1.356398e+08  1.439277e+08   \n",
              "max         1.000000       5.000000  1.269982e+09  9.905962e+08   \n",
              "\n",
              "             tx_kbps        rx_kbps       tot_kbps          label  \n",
              "count  104345.000000  103839.000000  103839.000000  104345.000000  \n",
              "mean      998.899756    1003.811420    2007.578742       0.390857  \n",
              "std      2423.471618    2054.887034    3144.437173       0.487945  \n",
              "min         0.000000       0.000000       0.000000       0.000000  \n",
              "25%         0.000000       0.000000       0.000000       0.000000  \n",
              "50%         0.000000       0.000000       4.000000       0.000000  \n",
              "75%       251.000000     557.000000    3838.000000       1.000000  \n",
              "max     20580.000000   16577.000000   20580.000000       1.000000  "
            ],
            "text/html": [
              "\n",
              "  <div id=\"df-47b6d10f-969b-4445-b5d6-1b1c95f0ab53\">\n",
              "    <div class=\"colab-df-container\">\n",
              "      <div>\n",
              "<style scoped>\n",
              "    .dataframe tbody tr th:only-of-type {\n",
              "        vertical-align: middle;\n",
              "    }\n",
              "\n",
              "    .dataframe tbody tr th {\n",
              "        vertical-align: top;\n",
              "    }\n",
              "\n",
              "    .dataframe thead th {\n",
              "        text-align: right;\n",
              "    }\n",
              "</style>\n",
              "<table border=\"1\" class=\"dataframe\">\n",
              "  <thead>\n",
              "    <tr style=\"text-align: right;\">\n",
              "      <th></th>\n",
              "      <th>dt</th>\n",
              "      <th>switch</th>\n",
              "      <th>pktcount</th>\n",
              "      <th>bytecount</th>\n",
              "      <th>dur</th>\n",
              "      <th>dur_nsec</th>\n",
              "      <th>tot_dur</th>\n",
              "      <th>flows</th>\n",
              "      <th>packetins</th>\n",
              "      <th>pktperflow</th>\n",
              "      <th>byteperflow</th>\n",
              "      <th>pktrate</th>\n",
              "      <th>Pairflow</th>\n",
              "      <th>port_no</th>\n",
              "      <th>tx_bytes</th>\n",
              "      <th>rx_bytes</th>\n",
              "      <th>tx_kbps</th>\n",
              "      <th>rx_kbps</th>\n",
              "      <th>tot_kbps</th>\n",
              "      <th>label</th>\n",
              "    </tr>\n",
              "  </thead>\n",
              "  <tbody>\n",
              "    <tr>\n",
              "      <th>count</th>\n",
              "      <td>104345.000000</td>\n",
              "      <td>104345.000000</td>\n",
              "      <td>104345.000000</td>\n",
              "      <td>1.043450e+05</td>\n",
              "      <td>104345.000000</td>\n",
              "      <td>1.043450e+05</td>\n",
              "      <td>1.043450e+05</td>\n",
              "      <td>104345.000000</td>\n",
              "      <td>104345.000000</td>\n",
              "      <td>104345.000000</td>\n",
              "      <td>1.043450e+05</td>\n",
              "      <td>104345.000000</td>\n",
              "      <td>104345.000000</td>\n",
              "      <td>104345.000000</td>\n",
              "      <td>1.043450e+05</td>\n",
              "      <td>1.043450e+05</td>\n",
              "      <td>104345.000000</td>\n",
              "      <td>103839.000000</td>\n",
              "      <td>103839.000000</td>\n",
              "      <td>104345.000000</td>\n",
              "    </tr>\n",
              "    <tr>\n",
              "      <th>mean</th>\n",
              "      <td>17927.514169</td>\n",
              "      <td>4.214260</td>\n",
              "      <td>52860.954746</td>\n",
              "      <td>3.818660e+07</td>\n",
              "      <td>321.497398</td>\n",
              "      <td>4.613880e+08</td>\n",
              "      <td>3.218865e+11</td>\n",
              "      <td>5.654234</td>\n",
              "      <td>5200.383468</td>\n",
              "      <td>6381.715291</td>\n",
              "      <td>4.716150e+06</td>\n",
              "      <td>212.210676</td>\n",
              "      <td>0.600987</td>\n",
              "      <td>2.331094</td>\n",
              "      <td>9.325264e+07</td>\n",
              "      <td>9.328039e+07</td>\n",
              "      <td>998.899756</td>\n",
              "      <td>1003.811420</td>\n",
              "      <td>2007.578742</td>\n",
              "      <td>0.390857</td>\n",
              "    </tr>\n",
              "    <tr>\n",
              "      <th>std</th>\n",
              "      <td>11977.642655</td>\n",
              "      <td>1.956327</td>\n",
              "      <td>52023.241460</td>\n",
              "      <td>4.877748e+07</td>\n",
              "      <td>283.518232</td>\n",
              "      <td>2.770019e+08</td>\n",
              "      <td>2.834029e+11</td>\n",
              "      <td>2.950036</td>\n",
              "      <td>5257.001450</td>\n",
              "      <td>7404.777808</td>\n",
              "      <td>7.560116e+06</td>\n",
              "      <td>246.855123</td>\n",
              "      <td>0.489698</td>\n",
              "      <td>1.084333</td>\n",
              "      <td>1.519380e+08</td>\n",
              "      <td>1.330004e+08</td>\n",
              "      <td>2423.471618</td>\n",
              "      <td>2054.887034</td>\n",
              "      <td>3144.437173</td>\n",
              "      <td>0.487945</td>\n",
              "    </tr>\n",
              "    <tr>\n",
              "      <th>min</th>\n",
              "      <td>2488.000000</td>\n",
              "      <td>1.000000</td>\n",
              "      <td>0.000000</td>\n",
              "      <td>0.000000e+00</td>\n",
              "      <td>0.000000</td>\n",
              "      <td>0.000000e+00</td>\n",
              "      <td>0.000000e+00</td>\n",
              "      <td>2.000000</td>\n",
              "      <td>4.000000</td>\n",
              "      <td>-130933.000000</td>\n",
              "      <td>-1.464426e+08</td>\n",
              "      <td>-4365.000000</td>\n",
              "      <td>0.000000</td>\n",
              "      <td>1.000000</td>\n",
              "      <td>2.527000e+03</td>\n",
              "      <td>8.560000e+02</td>\n",
              "      <td>0.000000</td>\n",
              "      <td>0.000000</td>\n",
              "      <td>0.000000</td>\n",
              "      <td>0.000000</td>\n",
              "    </tr>\n",
              "    <tr>\n",
              "      <th>25%</th>\n",
              "      <td>7098.000000</td>\n",
              "      <td>3.000000</td>\n",
              "      <td>808.000000</td>\n",
              "      <td>7.957600e+04</td>\n",
              "      <td>127.000000</td>\n",
              "      <td>2.340000e+08</td>\n",
              "      <td>1.270000e+11</td>\n",
              "      <td>3.000000</td>\n",
              "      <td>1943.000000</td>\n",
              "      <td>29.000000</td>\n",
              "      <td>2.842000e+03</td>\n",
              "      <td>0.000000</td>\n",
              "      <td>0.000000</td>\n",
              "      <td>1.000000</td>\n",
              "      <td>4.743000e+03</td>\n",
              "      <td>3.539000e+03</td>\n",
              "      <td>0.000000</td>\n",
              "      <td>0.000000</td>\n",
              "      <td>0.000000</td>\n",
              "      <td>0.000000</td>\n",
              "    </tr>\n",
              "    <tr>\n",
              "      <th>50%</th>\n",
              "      <td>11905.000000</td>\n",
              "      <td>4.000000</td>\n",
              "      <td>42828.000000</td>\n",
              "      <td>6.471930e+06</td>\n",
              "      <td>251.000000</td>\n",
              "      <td>4.180000e+08</td>\n",
              "      <td>2.520000e+11</td>\n",
              "      <td>5.000000</td>\n",
              "      <td>3024.000000</td>\n",
              "      <td>8305.000000</td>\n",
              "      <td>5.521680e+05</td>\n",
              "      <td>276.000000</td>\n",
              "      <td>1.000000</td>\n",
              "      <td>2.000000</td>\n",
              "      <td>4.219610e+06</td>\n",
              "      <td>1.338339e+07</td>\n",
              "      <td>0.000000</td>\n",
              "      <td>0.000000</td>\n",
              "      <td>4.000000</td>\n",
              "      <td>0.000000</td>\n",
              "    </tr>\n",
              "    <tr>\n",
              "      <th>75%</th>\n",
              "      <td>29952.000000</td>\n",
              "      <td>5.000000</td>\n",
              "      <td>94796.000000</td>\n",
              "      <td>7.620354e+07</td>\n",
              "      <td>412.000000</td>\n",
              "      <td>7.030000e+08</td>\n",
              "      <td>4.130000e+11</td>\n",
              "      <td>7.000000</td>\n",
              "      <td>7462.000000</td>\n",
              "      <td>10017.000000</td>\n",
              "      <td>9.728112e+06</td>\n",
              "      <td>333.000000</td>\n",
              "      <td>1.000000</td>\n",
              "      <td>3.000000</td>\n",
              "      <td>1.356398e+08</td>\n",
              "      <td>1.439277e+08</td>\n",
              "      <td>251.000000</td>\n",
              "      <td>557.000000</td>\n",
              "      <td>3838.000000</td>\n",
              "      <td>1.000000</td>\n",
              "    </tr>\n",
              "    <tr>\n",
              "      <th>max</th>\n",
              "      <td>42935.000000</td>\n",
              "      <td>10.000000</td>\n",
              "      <td>260006.000000</td>\n",
              "      <td>1.471280e+08</td>\n",
              "      <td>1881.000000</td>\n",
              "      <td>9.990000e+08</td>\n",
              "      <td>1.880000e+12</td>\n",
              "      <td>17.000000</td>\n",
              "      <td>25224.000000</td>\n",
              "      <td>19190.000000</td>\n",
              "      <td>1.495387e+07</td>\n",
              "      <td>639.000000</td>\n",
              "      <td>1.000000</td>\n",
              "      <td>5.000000</td>\n",
              "      <td>1.269982e+09</td>\n",
              "      <td>9.905962e+08</td>\n",
              "      <td>20580.000000</td>\n",
              "      <td>16577.000000</td>\n",
              "      <td>20580.000000</td>\n",
              "      <td>1.000000</td>\n",
              "    </tr>\n",
              "  </tbody>\n",
              "</table>\n",
              "</div>\n",
              "      <button class=\"colab-df-convert\" onclick=\"convertToInteractive('df-47b6d10f-969b-4445-b5d6-1b1c95f0ab53')\"\n",
              "              title=\"Convert this dataframe to an interactive table.\"\n",
              "              style=\"display:none;\">\n",
              "        \n",
              "  <svg xmlns=\"http://www.w3.org/2000/svg\" height=\"24px\"viewBox=\"0 0 24 24\"\n",
              "       width=\"24px\">\n",
              "    <path d=\"M0 0h24v24H0V0z\" fill=\"none\"/>\n",
              "    <path d=\"M18.56 5.44l.94 2.06.94-2.06 2.06-.94-2.06-.94-.94-2.06-.94 2.06-2.06.94zm-11 1L8.5 8.5l.94-2.06 2.06-.94-2.06-.94L8.5 2.5l-.94 2.06-2.06.94zm10 10l.94 2.06.94-2.06 2.06-.94-2.06-.94-.94-2.06-.94 2.06-2.06.94z\"/><path d=\"M17.41 7.96l-1.37-1.37c-.4-.4-.92-.59-1.43-.59-.52 0-1.04.2-1.43.59L10.3 9.45l-7.72 7.72c-.78.78-.78 2.05 0 2.83L4 21.41c.39.39.9.59 1.41.59.51 0 1.02-.2 1.41-.59l7.78-7.78 2.81-2.81c.8-.78.8-2.07 0-2.86zM5.41 20L4 18.59l7.72-7.72 1.47 1.35L5.41 20z\"/>\n",
              "  </svg>\n",
              "      </button>\n",
              "      \n",
              "  <style>\n",
              "    .colab-df-container {\n",
              "      display:flex;\n",
              "      flex-wrap:wrap;\n",
              "      gap: 12px;\n",
              "    }\n",
              "\n",
              "    .colab-df-convert {\n",
              "      background-color: #E8F0FE;\n",
              "      border: none;\n",
              "      border-radius: 50%;\n",
              "      cursor: pointer;\n",
              "      display: none;\n",
              "      fill: #1967D2;\n",
              "      height: 32px;\n",
              "      padding: 0 0 0 0;\n",
              "      width: 32px;\n",
              "    }\n",
              "\n",
              "    .colab-df-convert:hover {\n",
              "      background-color: #E2EBFA;\n",
              "      box-shadow: 0px 1px 2px rgba(60, 64, 67, 0.3), 0px 1px 3px 1px rgba(60, 64, 67, 0.15);\n",
              "      fill: #174EA6;\n",
              "    }\n",
              "\n",
              "    [theme=dark] .colab-df-convert {\n",
              "      background-color: #3B4455;\n",
              "      fill: #D2E3FC;\n",
              "    }\n",
              "\n",
              "    [theme=dark] .colab-df-convert:hover {\n",
              "      background-color: #434B5C;\n",
              "      box-shadow: 0px 1px 3px 1px rgba(0, 0, 0, 0.15);\n",
              "      filter: drop-shadow(0px 1px 2px rgba(0, 0, 0, 0.3));\n",
              "      fill: #FFFFFF;\n",
              "    }\n",
              "  </style>\n",
              "\n",
              "      <script>\n",
              "        const buttonEl =\n",
              "          document.querySelector('#df-47b6d10f-969b-4445-b5d6-1b1c95f0ab53 button.colab-df-convert');\n",
              "        buttonEl.style.display =\n",
              "          google.colab.kernel.accessAllowed ? 'block' : 'none';\n",
              "\n",
              "        async function convertToInteractive(key) {\n",
              "          const element = document.querySelector('#df-47b6d10f-969b-4445-b5d6-1b1c95f0ab53');\n",
              "          const dataTable =\n",
              "            await google.colab.kernel.invokeFunction('convertToInteractive',\n",
              "                                                     [key], {});\n",
              "          if (!dataTable) return;\n",
              "\n",
              "          const docLinkHtml = 'Like what you see? Visit the ' +\n",
              "            '<a target=\"_blank\" href=https://colab.research.google.com/notebooks/data_table.ipynb>data table notebook</a>'\n",
              "            + ' to learn more about interactive tables.';\n",
              "          element.innerHTML = '';\n",
              "          dataTable['output_type'] = 'display_data';\n",
              "          await google.colab.output.renderOutput(dataTable, element);\n",
              "          const docLink = document.createElement('div');\n",
              "          docLink.innerHTML = docLinkHtml;\n",
              "          element.appendChild(docLink);\n",
              "        }\n",
              "      </script>\n",
              "    </div>\n",
              "  </div>\n",
              "  "
            ]
          },
          "metadata": {},
          "execution_count": 10
        }
      ],
      "source": [
        "data.describe()"
      ]
    },
    {
      "cell_type": "code",
      "execution_count": null,
      "metadata": {
        "colab": {
          "base_uri": "https://localhost:8080/"
        },
        "id": "HgcIVwgXVPnt",
        "outputId": "c9aae6ea-be26-4726-9de9-78338d2fd4eb"
      },
      "outputs": [
        {
          "output_type": "execute_result",
          "data": {
            "text/plain": [
              "Text(0.5, 1.0, 'Features which has NuLL values')"
            ]
          },
          "metadata": {},
          "execution_count": 11
        },
        {
          "output_type": "display_data",
          "data": {
            "text/plain": [
              "<Figure size 720x400 with 1 Axes>"
            ],
            "image/png": "[encoded data removed]"
          },
          "metadata": {
            "needs_background": "light"
          }
        }
      ],
      "source": [
        "# Let's look at the vizualisation of Null valued features\n",
        "figure(figsize=(9, 5), dpi=80)\n",
        "data[data.columns[data.isna().sum() >= 0]].isna().sum().sort_values().plot.bar()\n",
        "plt.title(\"Features which has NuLL values\")"
      ]
    },
    {
      "cell_type": "code",
      "execution_count": null,
      "metadata": {
        "colab": {
          "base_uri": "https://localhost:8080/"
        },
        "id": "giVGF2TrVPnv",
        "outputId": "0e638907-0248-495f-b3ac-5de4ca3f97c4"
      },
      "outputs": [
        {
          "output_type": "execute_result",
          "data": {
            "text/plain": [
              "dt               0\n",
              "switch           0\n",
              "src              0\n",
              "dst              0\n",
              "pktcount         0\n",
              "bytecount        0\n",
              "dur              0\n",
              "dur_nsec         0\n",
              "tot_dur          0\n",
              "flows            0\n",
              "packetins        0\n",
              "pktperflow       0\n",
              "byteperflow      0\n",
              "pktrate          0\n",
              "Pairflow         0\n",
              "Protocol         0\n",
              "port_no          0\n",
              "tx_bytes         0\n",
              "rx_bytes         0\n",
              "tx_kbps          0\n",
              "rx_kbps        506\n",
              "tot_kbps       506\n",
              "label            0\n",
              "dtype: int64"
            ]
          },
          "metadata": {},
          "execution_count": 12
        }
      ],
      "source": [
        "data.isnull().sum()"
      ]
    },
    {
      "cell_type": "code",
      "execution_count": null,
      "metadata": {
        "colab": {
          "base_uri": "https://localhost:8080/"
        },
        "id": "JRXF5LTuVPnw",
        "outputId": "c8bef836-3910-4aca-9251-f1333a039975"
      },
      "outputs": [
        {
          "output_type": "stream",
          "name": "stdout",
          "text": [
            "Numeric Columns: \n",
            "Index(['dt', 'switch', 'pktcount', 'bytecount', 'dur', 'dur_nsec', 'tot_dur',\n",
            "       'flows', 'packetins', 'pktperflow', 'byteperflow', 'pktrate',\n",
            "       'Pairflow', 'port_no', 'tx_bytes', 'rx_bytes', 'tx_kbps', 'rx_kbps',\n",
            "       'tot_kbps', 'label'],\n",
            "      dtype='object') \n",
            "\n",
            "Object Columns: \n",
            "Index(['src', 'dst', 'Protocol'], dtype='object') \n",
            "\n",
            "Number of Numeric Features:  20\n",
            "Number of Object Features:  3\n"
          ]
        }
      ],
      "source": [
        "#### Let's support which columns NUMERIC and which is OBJECT\n",
        "\n",
        "numeric_df = data.select_dtypes(include=['int64', 'float64'])\n",
        "object_df = data.select_dtypes(include=['object'])\n",
        "numeric_cols = numeric_df.columns\n",
        "object_cols = object_df.columns\n",
        "print('Numeric Columns: ')\n",
        "print(numeric_cols, '\\n')\n",
        "print('Object Columns: ')\n",
        "print(object_cols, '\\n')\n",
        "print('Number of Numeric Features: ', len(numeric_cols))\n",
        "print('Number of Object Features: ', len(object_cols))"
      ]
    },
    {
      "cell_type": "code",
      "execution_count": null,
      "metadata": {
        "colab": {
          "base_uri": "https://localhost:8080/"
        },
        "id": "wuFnSFk_VPnx",
        "outputId": "a992a054-6112-4107-9383-80fd67cc5e28"
      },
      "outputs": [
        {
          "output_type": "execute_result",
          "data": {
            "text/plain": [
              "        src       dst Protocol\n",
              "0  10.0.0.1  10.0.0.8      UDP\n",
              "1  10.0.0.1  10.0.0.8      UDP\n",
              "2  10.0.0.2  10.0.0.8      UDP\n",
              "3  10.0.0.2  10.0.0.8      UDP\n",
              "4  10.0.0.2  10.0.0.8      UDP"
            ],
            "text/html": [
              "\n",
              "  <div id=\"df-27ca2853-5826-4468-96f0-7604df6c73e0\">\n",
              "    <div class=\"colab-df-container\">\n",
              "      <div>\n",
              "<style scoped>\n",
              "    .dataframe tbody tr th:only-of-type {\n",
              "        vertical-align: middle;\n",
              "    }\n",
              "\n",
              "    .dataframe tbody tr th {\n",
              "        vertical-align: top;\n",
              "    }\n",
              "\n",
              "    .dataframe thead th {\n",
              "        text-align: right;\n",
              "    }\n",
              "</style>\n",
              "<table border=\"1\" class=\"dataframe\">\n",
              "  <thead>\n",
              "    <tr style=\"text-align: right;\">\n",
              "      <th></th>\n",
              "      <th>src</th>\n",
              "      <th>dst</th>\n",
              "      <th>Protocol</th>\n",
              "    </tr>\n",
              "  </thead>\n",
              "  <tbody>\n",
              "    <tr>\n",
              "      <th>0</th>\n",
              "      <td>10.0.0.1</td>\n",
              "      <td>10.0.0.8</td>\n",
              "      <td>UDP</td>\n",
              "    </tr>\n",
              "    <tr>\n",
              "      <th>1</th>\n",
              "      <td>10.0.0.1</td>\n",
              "      <td>10.0.0.8</td>\n",
              "      <td>UDP</td>\n",
              "    </tr>\n",
              "    <tr>\n",
              "      <th>2</th>\n",
              "      <td>10.0.0.2</td>\n",
              "      <td>10.0.0.8</td>\n",
              "      <td>UDP</td>\n",
              "    </tr>\n",
              "    <tr>\n",
              "      <th>3</th>\n",
              "      <td>10.0.0.2</td>\n",
              "      <td>10.0.0.8</td>\n",
              "      <td>UDP</td>\n",
              "    </tr>\n",
              "    <tr>\n",
              "      <th>4</th>\n",
              "      <td>10.0.0.2</td>\n",
              "      <td>10.0.0.8</td>\n",
              "      <td>UDP</td>\n",
              "    </tr>\n",
              "  </tbody>\n",
              "</table>\n",
              "</div>\n",
              "      <button class=\"colab-df-convert\" onclick=\"convertToInteractive('df-27ca2853-5826-4468-96f0-7604df6c73e0')\"\n",
              "              title=\"Convert this dataframe to an interactive table.\"\n",
              "              style=\"display:none;\">\n",
              "        \n",
              "  <svg xmlns=\"http://www.w3.org/2000/svg\" height=\"24px\"viewBox=\"0 0 24 24\"\n",
              "       width=\"24px\">\n",
              "    <path d=\"M0 0h24v24H0V0z\" fill=\"none\"/>\n",
              "    <path d=\"M18.56 5.44l.94 2.06.94-2.06 2.06-.94-2.06-.94-.94-2.06-.94 2.06-2.06.94zm-11 1L8.5 8.5l.94-2.06 2.06-.94-2.06-.94L8.5 2.5l-.94 2.06-2.06.94zm10 10l.94 2.06.94-2.06 2.06-.94-2.06-.94-.94-2.06-.94 2.06-2.06.94z\"/><path d=\"M17.41 7.96l-1.37-1.37c-.4-.4-.92-.59-1.43-.59-.52 0-1.04.2-1.43.59L10.3 9.45l-7.72 7.72c-.78.78-.78 2.05 0 2.83L4 21.41c.39.39.9.59 1.41.59.51 0 1.02-.2 1.41-.59l7.78-7.78 2.81-2.81c.8-.78.8-2.07 0-2.86zM5.41 20L4 18.59l7.72-7.72 1.47 1.35L5.41 20z\"/>\n",
              "  </svg>\n",
              "      </button>\n",
              "      \n",
              "  <style>\n",
              "    .colab-df-container {\n",
              "      display:flex;\n",
              "      flex-wrap:wrap;\n",
              "      gap: 12px;\n",
              "    }\n",
              "\n",
              "    .colab-df-convert {\n",
              "      background-color: #E8F0FE;\n",
              "      border: none;\n",
              "      border-radius: 50%;\n",
              "      cursor: pointer;\n",
              "      display: none;\n",
              "      fill: #1967D2;\n",
              "      height: 32px;\n",
              "      padding: 0 0 0 0;\n",
              "      width: 32px;\n",
              "    }\n",
              "\n",
              "    .colab-df-convert:hover {\n",
              "      background-color: #E2EBFA;\n",
              "      box-shadow: 0px 1px 2px rgba(60, 64, 67, 0.3), 0px 1px 3px 1px rgba(60, 64, 67, 0.15);\n",
              "      fill: #174EA6;\n",
              "    }\n",
              "\n",
              "    [theme=dark] .colab-df-convert {\n",
              "      background-color: #3B4455;\n",
              "      fill: #D2E3FC;\n",
              "    }\n",
              "\n",
              "    [theme=dark] .colab-df-convert:hover {\n",
              "      background-color: #434B5C;\n",
              "      box-shadow: 0px 1px 3px 1px rgba(0, 0, 0, 0.15);\n",
              "      filter: drop-shadow(0px 1px 2px rgba(0, 0, 0, 0.3));\n",
              "      fill: #FFFFFF;\n",
              "    }\n",
              "  </style>\n",
              "\n",
              "      <script>\n",
              "        const buttonEl =\n",
              "          document.querySelector('#df-27ca2853-5826-4468-96f0-7604df6c73e0 button.colab-df-convert');\n",
              "        buttonEl.style.display =\n",
              "          google.colab.kernel.accessAllowed ? 'block' : 'none';\n",
              "\n",
              "        async function convertToInteractive(key) {\n",
              "          const element = document.querySelector('#df-27ca2853-5826-4468-96f0-7604df6c73e0');\n",
              "          const dataTable =\n",
              "            await google.colab.kernel.invokeFunction('convertToInteractive',\n",
              "                                                     [key], {});\n",
              "          if (!dataTable) return;\n",
              "\n",
              "          const docLinkHtml = 'Like what you see? Visit the ' +\n",
              "            '<a target=\"_blank\" href=https://colab.research.google.com/notebooks/data_table.ipynb>data table notebook</a>'\n",
              "            + ' to learn more about interactive tables.';\n",
              "          element.innerHTML = '';\n",
              "          dataTable['output_type'] = 'display_data';\n",
              "          await google.colab.output.renderOutput(dataTable, element);\n",
              "          const docLink = document.createElement('div');\n",
              "          docLink.innerHTML = docLinkHtml;\n",
              "          element.appendChild(docLink);\n",
              "        }\n",
              "      </script>\n",
              "    </div>\n",
              "  </div>\n",
              "  "
            ]
          },
          "metadata": {},
          "execution_count": 14
        }
      ],
      "source": [
        "object_df.head()"
      ]
    },
    {
      "cell_type": "code",
      "execution_count": null,
      "metadata": {
        "colab": {
          "base_uri": "https://localhost:8080/"
        },
        "id": "wIJyI-4WVPnz",
        "outputId": "1b4a7d0a-d3e9-475e-8c7e-115cb716e157"
      },
      "outputs": [
        {
          "output_type": "execute_result",
          "data": {
            "text/plain": [
              "Text(0.5, 1.0, 'Number of all reqests')"
            ]
          },
          "metadata": {},
          "execution_count": 15
        },
        {
          "output_type": "display_data",
          "data": {
            "text/plain": [
              "<Figure size 960x560 with 1 Axes>"
            ],
            "image/png": "[encoded data removed]"
          },
          "metadata": {
            "needs_background": "light"
          }
        }
      ],
      "source": [
        "#### Let's look at Oblect columns (Source Destination Protocol)\n",
        "\n",
        "figure(figsize=(12, 7), dpi=80)\n",
        "plt.barh(list(dict(data.src.value_counts()).keys()), dict(data.src.value_counts()).values(), color='lawngreen')\n",
        "\n",
        "for idx, val in enumerate(dict(data.src.value_counts()).values()):\n",
        "    plt.text(x = val, y = idx-0.2, s = str(val), color='r', size = 13)\n",
        "\n",
        "plt.xlabel('Number of Requests')\n",
        "plt.ylabel('IP addres of sender')\n",
        "plt.title('Number of all reqests')"
      ]
    },
    {
      "cell_type": "code",
      "execution_count": null,
      "metadata": {
        "colab": {
          "base_uri": "https://localhost:8080/"
        },
        "id": "CX4T9ORrVPn1",
        "outputId": "5a657f15-3dfd-4039-bb10-f7d99f08edbf"
      },
      "outputs": [
        {
          "output_type": "execute_result",
          "data": {
            "text/plain": [
              "Text(0.5, 1.0, 'Number of Attack requests')"
            ]
          },
          "metadata": {},
          "execution_count": 16
        },
        {
          "output_type": "display_data",
          "data": {
            "text/plain": [
              "<Figure size 960x560 with 1 Axes>"
            ],
            "image/png": "[encoded data removed]"
          },
          "metadata": {
            "needs_background": "light"
          }
        }
      ],
      "source": [
        "figure(figsize=(12, 7), dpi=80)\n",
        "plt.barh(list(dict(data[data.label == 1].src.value_counts()).keys()), dict(data[data.label == 1].src.value_counts()).values(), color='blue')\n",
        "\n",
        "for idx, val in enumerate(dict(data[data.label == 1].src.value_counts()).values()):\n",
        "    plt.text(x = val, y = idx-0.2, s = str(val), color='r', size = 13)\n",
        "\n",
        "plt.xlabel('Number of Requests')\n",
        "plt.ylabel('IP addres of sender')\n",
        "plt.title('Number of Attack requests')"
      ]
    },
    {
      "cell_type": "code",
      "execution_count": null,
      "metadata": {
        "colab": {
          "base_uri": "https://localhost:8080/"
        },
        "id": "iBalXDJHVPn3",
        "outputId": "c20bbf47-28a6-4cc5-9e3d-cb3261fa23e1"
      },
      "outputs": [
        {
          "output_type": "execute_result",
          "data": {
            "text/plain": [
              "Text(0.5, 1.0, 'Number of requests from different IP adress')"
            ]
          },
          "metadata": {},
          "execution_count": 17
        },
        {
          "output_type": "display_data",
          "data": {
            "text/plain": [
              "<Figure size 960x560 with 1 Axes>"
            ],
            "image/png": "[encoded data removed]"
          },
          "metadata": {
            "needs_background": "light"
          }
        }
      ],
      "source": [
        "figure(figsize=(12, 7), dpi=80)\n",
        "plt.barh(list(dict(data.src.value_counts()).keys()), dict(data.src.value_counts()).values(), color='lawngreen')\n",
        "plt.barh(list(dict(data[data.label == 1].src.value_counts()).keys()), dict(data[data.label == 1].src.value_counts()).values(), color='blue')\n",
        "\n",
        "for idx, val in enumerate(dict(data.src.value_counts()).values()):\n",
        "    plt.text(x = val, y = idx-0.2, s = str(val), color='r', size = 13)\n",
        "\n",
        "for idx, val in enumerate(dict(data[data.label == 1].src.value_counts()).values()):\n",
        "    plt.text(x = val, y = idx-0.2, s = str(val), color='w', size = 13)\n",
        "\n",
        "\n",
        "plt.xlabel('Number of Requests')\n",
        "plt.ylabel('IP addres of sender')\n",
        "plt.legend(['All','malicious'])\n",
        "plt.title('Number of requests from different IP adress')"
      ]
    },
    {
      "cell_type": "code",
      "execution_count": null,
      "metadata": {
        "colab": {
          "base_uri": "https://localhost:8080/"
        },
        "id": "g8DXiFnNVPn6",
        "outputId": "83b43d33-06f9-4899-fa1c-3935a7a533c4"
      },
      "outputs": [
        {
          "output_type": "execute_result",
          "data": {
            "text/plain": [
              "Text(0.5, 1.0, 'The number of requests from different protocols')"
            ]
          },
          "metadata": {},
          "execution_count": 18
        },
        {
          "output_type": "display_data",
          "data": {
            "text/plain": [
              "<Figure size 800x480 with 1 Axes>"
            ],
            "image/png": "[encoded data removed]"
          },
          "metadata": {
            "needs_background": "light"
          }
        }
      ],
      "source": [
        "figure(figsize=(10, 6), dpi=80)\n",
        "plt.bar(list(dict(data.Protocol.value_counts()).keys()), dict(data.Protocol.value_counts()).values(), color='r')\n",
        "plt.bar(list(dict(data[data.label == 1].Protocol.value_counts()).keys()), dict(data[data.label == 1].Protocol.value_counts()).values(), color='b')\n",
        "\n",
        "plt.text(x = 0 - 0.15, y = 41321 + 200, s = str(41321), color='black', size=17)\n",
        "plt.text(x = 1 - 0.15, y = 33588 + 200, s = str(33588), color='black', size=17)\n",
        "plt.text(x = 2 - 0.15, y = 29436 + 200, s = str(29436), color='black', size=17)\n",
        "\n",
        "plt.text(x = 0 - 0.15, y = 9419 + 200, s = str(9419), color='w', size=17)\n",
        "plt.text(x = 1 - 0.15, y = 17499 + 200, s = str(17499), color='w', size=17)\n",
        "plt.text(x = 2 - 0.15, y = 13866 + 200, s = str(13866), color='w', size=17)\n",
        "\n",
        "plt.xlabel('Protocol')\n",
        "plt.ylabel('Count')\n",
        "plt.legend(['All', 'malicious'])\n",
        "plt.title('The number of requests from different protocols')"
      ]
    },
    {
      "cell_type": "code",
      "execution_count": null,
      "metadata": {
        "id": "kZYbf5LlVPn8"
      },
      "outputs": [],
      "source": [
        "df = data.copy()"
      ]
    },
    {
      "cell_type": "code",
      "execution_count": null,
      "metadata": {
        "colab": {
          "base_uri": "https://localhost:8080/"
        },
        "id": "EFF7aUwRVPn_",
        "outputId": "8f227cc7-8203-47b1-ebd1-45cb37dcb472"
      },
      "outputs": [
        {
          "output_type": "display_data",
          "data": {
            "text/plain": [
              "<Figure size 640x320 with 1 Axes>"
            ],
            "image/png": "[encoded data removed]"
          },
          "metadata": {
            "needs_background": "light"
          }
        }
      ],
      "source": [
        "figure(figsize=(8, 4), dpi=80)\n",
        "plt.hist(df.dur, bins=20, color='b')\n",
        "plt.title('Duration')\n",
        "plt.show()"
      ]
    },
    {
      "cell_type": "code",
      "execution_count": null,
      "metadata": {
        "colab": {
          "base_uri": "https://localhost:8080/"
        },
        "id": "rSUhlsXXVPoA",
        "outputId": "69958a03-1651-4d38-a1ff-d3596a49b1b8"
      },
      "outputs": [
        {
          "output_type": "display_data",
          "data": {
            "text/plain": [
              "<Figure size 640x320 with 1 Axes>"
            ],
            "image/png": "[encoded data removed]"
          },
          "metadata": {
            "needs_background": "light"
          }
        }
      ],
      "source": [
        "figure(figsize=(8, 4), dpi=80)\n",
        "plt.hist(df.tx_bytes, bins=20, color='r')\n",
        "plt.title('TX_BYTES - Transmitted Bytes')\n",
        "plt.show()"
      ]
    },
    {
      "cell_type": "code",
      "execution_count": null,
      "metadata": {
        "colab": {
          "base_uri": "https://localhost:8080/"
        },
        "id": "CbIwjwViVPoB",
        "outputId": "f8245647-0d01-406d-a925-4fbb1249b2b9"
      },
      "outputs": [
        {
          "output_type": "display_data",
          "data": {
            "text/plain": [
              "<Figure size 640x320 with 1 Axes>"
            ],
            "image/png": "[encoded data removed]"
          },
          "metadata": {
            "needs_background": "light"
          }
        }
      ],
      "source": [
        "figure(figsize=(8, 4), dpi=80)\n",
        "plt.hist(df.tx_kbps, bins=10, color='g')\n",
        "plt.title('TX_KBPC')\n",
        "plt.show()"
      ]
    },
    {
      "cell_type": "code",
      "execution_count": null,
      "metadata": {
        "colab": {
          "base_uri": "https://localhost:8080/"
        },
        "id": "F95ua0kzVPoD",
        "outputId": "51a75c28-5404-40bf-845f-929e3be902cc"
      },
      "outputs": [
        {
          "output_type": "display_data",
          "data": {
            "text/plain": [
              "<Figure size 432x288 with 1 Axes>"
            ],
            "image/png": "[encoded data removed]"
          },
          "metadata": {
            "needs_background": "light"
          }
        }
      ],
      "source": [
        "plt.hist(df.switch, bins=20, color='r')\n",
        "plt.title('SWITCH')\n",
        "plt.xlabel('SWITCH')\n",
        "plt.show()"
      ]
    },
    {
      "cell_type": "code",
      "execution_count": null,
      "metadata": {
        "colab": {
          "base_uri": "https://localhost:8080/"
        },
        "id": "Nu2j8Vo4VPoE",
        "outputId": "39f29aa9-e6dd-414f-a486-18259a3b6789"
      },
      "outputs": [
        {
          "output_type": "display_data",
          "data": {
            "text/plain": [
              "<Figure size 432x288 with 1 Axes>"
            ],
            "image/png": "[encoded data removed]"
          },
          "metadata": {
            "needs_background": "light"
          }
        }
      ],
      "source": [
        "plt.hist(df[df['label'] == 1].switch, bins=20, color='r')\n",
        "plt.title('SWITCH')\n",
        "plt.xlabel('SWITCH')\n",
        "plt.show()"
      ]
    },
    {
      "cell_type": "markdown",
      "metadata": {
        "id": "gtyu9U8bVPoF"
      },
      "source": [
        "#### II. Classical ML models"
      ]
    },
    {
      "cell_type": "code",
      "execution_count": null,
      "metadata": {
        "colab": {
          "base_uri": "https://localhost:8080/",
          "height": 36
        },
        "id": "TRLGe4O1VPoG",
        "outputId": "947a1cd0-845d-41a8-fa62-bdb13f072777"
      },
      "outputs": [
        {
          "output_type": "execute_result",
          "data": {
            "text/plain": [
              "'\\nDecision Tree works Well\\nSuppert Vector Machine works well\\nLogistic Regression works well\\nKNN works well\\nRandom Forest works well\\n'"
            ],
            "application/vnd.google.colaboratory.intrinsic+json": {
              "type": "string"
            }
          },
          "metadata": {},
          "execution_count": 25
        }
      ],
      "source": [
        "\n",
        "class Model:\n",
        "    global y\n",
        "    def __init__(self, data):\n",
        "        self.data = data\n",
        "        X = preprocessing.StandardScaler().fit(self.data).transform(self.data)\n",
        "        self.X_train, self.X_test, self.y_train, self.y_test = train_test_split(X, y, random_state=42, test_size=0.2)  \n",
        "    \n",
        "    def LogisticRegression(self):\n",
        "        solvers = ['newton-cg', 'lbfgs', 'liblinear', 'sag', 'saga']\n",
        "\n",
        "        start_time = time.time()\n",
        "        results_lr = []\n",
        "        accuracy_list = []\n",
        "        for solver in solvers:\n",
        "            LR = LogisticRegression(C=0.03, solver=solver).fit(self.X_train, self.y_train)\n",
        "            predicted_lr = LR.predict(self.X_test)\n",
        "            accuracy_lr = accuracy_score(self.y_test, predicted_lr)\n",
        "            #print(\"Accuracy: %.2f%%\" % (accuracy_lr * 100.0))\n",
        "            #print('################################################################')\n",
        "            results_lr.append({'solver' : solver, 'accuracy': str(round(accuracy_lr * 100, 2)) + \"%\", \n",
        "                                  'Coefficients': {'W' : LR.coef_, 'b': LR.intercept_}})\n",
        "            \n",
        "            accuracy_list.append(accuracy_lr)\n",
        "       \n",
        "        solver_name = solvers[accuracy_list.index(max(accuracy_list))]\n",
        "        LR = LogisticRegression(C=0.03, solver=solver_name).fit(self.X_train,self.y_train)\n",
        "        predicted_lr = LR.predict(self.X_test)\n",
        "        accuracy_lr = accuracy_score(self.y_test, predicted_lr)\n",
        "        print(\"Accuracy: %.2f%%\" % (accuracy_lr * 100.0), '\\n')\n",
        "        print(\"########################################################################\")\n",
        "        print('Best solver is : ', solver_name)\n",
        "        print(\"########################################################################\")\n",
        "        print(classification_report(predicted_lr, self.y_test), '\\n')\n",
        "        print(\"########################################################################\")\n",
        "        print(\"--- %s seconds --- time for LogisticRegression\" % (time.time() - start_time))\n",
        "        \n",
        "        \n",
        "    def SupportVectorMachine(self):\n",
        "        start_time = time.time()\n",
        "        accuracy_list = []\n",
        "        result_svm = []\n",
        "        kernels = ['linear', 'poly','rbf', 'sigmoid']\n",
        "        #kernels = ['rbf']\n",
        "        for kernel in kernels:\n",
        "            SVM = svm.SVC(kernel=kernel).fit(self.X_train, self.y_train)\n",
        "            predicted_svm = SVM.predict(self.X_test)\n",
        "            accuracy_svm = accuracy_score(self.y_test, predicted_svm)\n",
        "            result_svm.append({\"kernel\" : kernel, \"accuracy\": f\"{round(accuracy_svm*100,2)}%\"})\n",
        "            print(\"Accuracy: %.2f%%\" % round((accuracy_svm * 100.0),2))\n",
        "            print('######################################################################')\n",
        "            accuracy_list.append(accuracy_svm)\n",
        "        \n",
        "        kernel_name = kernels[accuracy_list.index(max(accuracy_list))]\n",
        "        SVM = svm.SVC(kernel=kernel_name).fit(self.X_train, self.y_train)\n",
        "        predicted_svm = SVM.predict(self.X_test)\n",
        "        accuracy_svm = accuracy_score(self.y_test, predicted_svm)\n",
        "        print(f\"Accuracy of SVM model {round(accuracy_svm,2)*100}%\", '\\n')\n",
        "        print(\"########################################################################\")\n",
        "        print('best kernel is : ', kernel_name)\n",
        "        print(\"########################################################################\")\n",
        "        print(classification_report(predicted_svm, self.y_test))\n",
        "        print(\"########################################################################\")\n",
        "        print(\"--- %s seconds ---\" % (time.time() - start_time))\n",
        "        \n",
        "    def KNearetsNeighbor(self):\n",
        "        start_time = time.time()\n",
        "        Ks = 12\n",
        "        accuracy_knn = np.zeros((Ks-1))\n",
        "        std_acc = np.zeros((Ks-1))\n",
        "        #print(accuracy_knn)\n",
        "        for n in range(1,Ks):\n",
        "\n",
        "            #Train Model and Predict  \n",
        "            neigh = KNeighborsClassifier(n_neighbors = n).fit(self.X_train,self.y_train)\n",
        "            yhat=neigh.predict(self.X_test)\n",
        "            accuracy_knn[n-1] = metrics.accuracy_score(self.y_test, yhat)\n",
        "\n",
        "\n",
        "            std_acc[n-1]=np.std(yhat==self.y_test)/np.sqrt(yhat.shape[0])\n",
        "\n",
        "        #print(accuracy_knn,'\\n\\n') # courseranyn ozinde tek osy gana jazylyp turdy\n",
        "        #print(std_acc)\n",
        "        #accuracy_knn[0] = 0\n",
        "        plt.figure(figsize=(10,6))\n",
        "        plt.plot(range(1,Ks),accuracy_knn,'g')\n",
        "        plt.fill_between(range(1,Ks),accuracy_knn - 1 * std_acc,accuracy_knn + 1 * std_acc, alpha=0.10)\n",
        "        plt.fill_between(range(1,Ks),accuracy_knn - 3 * std_acc,accuracy_knn + 3 * std_acc, alpha=0.10,color=\"green\")\n",
        "        plt.legend(('Accuracy ', '+/- 1xstd','+/- 3xstd'))\n",
        "        plt.ylabel('Accuracy ')\n",
        "        plt.xlabel('Number of Neighbors (K)')\n",
        "        plt.tight_layout()\n",
        "        plt.show()\n",
        "        \n",
        "        \n",
        "        knnc = KNeighborsClassifier()\n",
        "        knnc_search = GridSearchCV(knnc, param_grid={'n_neighbors': [3, 5, 10],\n",
        "                                             'weights': ['uniform', 'distance'],\n",
        "                                             'metric': ['euclidean', 'manhattan']},\n",
        "                           n_jobs=-1, cv=3, scoring='accuracy', verbose=2)\n",
        "        \n",
        "        knnc_search.fit(self.X_train, self.y_train)\n",
        "        #print(knnc_search.best_params_)\n",
        "        #print(knnc_search.best_score_)\n",
        "        n_neighbors = knnc_search.best_params_['n_neighbors']\n",
        "        weights = knnc_search.best_params_['weights']\n",
        "        metric = knnc_search.best_params_['metric']\n",
        "        KNN = KNeighborsClassifier(n_neighbors=n_neighbors, metric=metric, weights=weights).fit(self.X_train,self.y_train)\n",
        "        \n",
        "        predicted_knn = KNN.predict(self.X_test)\n",
        "        accuracy_knn = metrics.accuracy_score(self.y_test, predicted_knn)\n",
        "        print(f\"Accuracy of KNN model {round(accuracy_knn,2)*100}%\", '\\n')\n",
        "        print(\"########################################################################\")\n",
        "        print(classification_report(predicted_knn, self.y_test))\n",
        "        print(\"########################################################################\")\n",
        "        print(\"--- %s seconds ---\" % (time.time() - start_time))\n",
        "        \n",
        "    def DecisionTree(self):\n",
        "        start_time = time.time()\n",
        "        tree = DecisionTreeClassifier()\n",
        "        dt_search = GridSearchCV(tree, param_grid={'criterion' : ['gini', 'entropy'],\n",
        "                                           'max_depth' : [2,3,4,5,6,7,8, 9, 10],\n",
        "                                           'max_leaf_nodes' : [2,3,4,5,6,7,8,9,10, 11]},\n",
        "                           n_jobs=-1, cv=5, scoring='accuracy', verbose=2)\n",
        "        \n",
        "        dt_search.fit(self.X_train, self.y_train)\n",
        "        \n",
        "        criterion = dt_search.best_params_['criterion']\n",
        "        max_depth = dt_search.best_params_['max_depth']\n",
        "        max_leaf_nodes = dt_search.best_params_['max_leaf_nodes']\n",
        "        \n",
        "        dtree = DecisionTreeClassifier(criterion=criterion, \n",
        "                                       max_depth=max_depth, \n",
        "                                       max_leaf_nodes=max_leaf_nodes).fit(self.X_train, self.y_train)\n",
        "        predicted_dt = dtree.predict(self.X_test)\n",
        "        accuracy_dt = metrics.accuracy_score(self.y_test, predicted_dt)\n",
        "        print(f\"criterion: {criterion}, max depth: {max_depth}, max_leaf: {max_leaf_nodes}\")\n",
        "        print(f\"The Accuracy is : {round(accuracy_dt * 100,2)}%\")\n",
        "        print(\"########################################################################\")\n",
        "        print(classification_report(predicted_dt, self.y_test))\n",
        "        print(\"########################################################################\")\n",
        "        \n",
        "        print(\"--- %s seconds ---\" % (time.time() - start_time))\n",
        "    \n",
        "    def RandomForest(self):\n",
        "        start_time = time.time()\n",
        "        RF = RandomForestClassifier(criterion='gini', \n",
        "                                     n_estimators=500,\n",
        "                                     min_samples_split=10,\n",
        "                                     #min_samples_leaf=1,\n",
        "                                     max_features='auto',\n",
        "                                     oob_score=True,\n",
        "                                     random_state=1,\n",
        "                                     n_jobs=-1).fit(self.X_train, self.y_train)\n",
        "        \n",
        "        predicted_rf = RF.predict(self.X_test)\n",
        "        svm_accuracy = accuracy_score(self.y_test, predicted_rf)\n",
        "        print(f\"Accuracy of RF is : {round(svm_accuracy*100,2)}%\", '\\n')\n",
        "        print(\"########################################################################\")\n",
        "        print(classification_report(predicted_rf, self.y_test))\n",
        "        print(\"########################################################################\")\n",
        "        \n",
        "        print(\"--- %s seconds ---\" % (time.time() - start_time))\n",
        "\n",
        "\"\"\"\n",
        "Decision Tree works Well\n",
        "Suppert Vector Machine works well\n",
        "Logistic Regression works well\n",
        "KNN works well\n",
        "Random Forest works well\n",
        "\"\"\""
      ]
    },
    {
      "cell_type": "markdown",
      "metadata": {
        "id": "gvEwtS7GVPoN"
      },
      "source": [
        "#### III .Prediction Without Feature Selection"
      ]
    },
    {
      "cell_type": "markdown",
      "metadata": {
        "id": "S5t2sS5vVPoS"
      },
      "source": [
        "##### II-1. Data Preprocessing"
      ]
    },
    {
      "cell_type": "code",
      "execution_count": null,
      "metadata": {
        "id": "ZVQnkI8-VPoT"
      },
      "outputs": [],
      "source": [
        "df = data.copy()\n",
        "df = df.dropna()"
      ]
    },
    {
      "cell_type": "code",
      "execution_count": null,
      "metadata": {
        "id": "LHGhAM4_VPoT"
      },
      "outputs": [],
      "source": [
        "X = df.drop(['dt','src','dst','label'], axis=1)\n",
        "y = df.label"
      ]
    },
    {
      "cell_type": "code",
      "execution_count": null,
      "metadata": {
        "id": "1z25ezm0VPoU"
      },
      "outputs": [],
      "source": [
        "X = pd.get_dummies(X)"
      ]
    },
    {
      "cell_type": "code",
      "execution_count": null,
      "metadata": {
        "id": "gXIK3B_FVPoV"
      },
      "outputs": [],
      "source": [
        "M = Model(X)"
      ]
    },
    {
      "cell_type": "code",
      "execution_count": null,
      "metadata": {
        "colab": {
          "base_uri": "https://localhost:8080/"
        },
        "id": "KAkW5wNJVPoV",
        "outputId": "eea6def3-8917-40a1-b653-1e6828e32d3e"
      },
      "outputs": [
        {
          "output_type": "stream",
          "name": "stdout",
          "text": [
            "Accuracy: 76.27% \n",
            "\n",
            "########################################################################\n",
            "Best solver is :  newton-cg\n",
            "########################################################################\n",
            "              precision    recall  f1-score   support\n",
            "\n",
            "           0       0.83      0.79      0.81     13333\n",
            "           1       0.65      0.72      0.68      7435\n",
            "\n",
            "    accuracy                           0.76     20768\n",
            "   macro avg       0.74      0.75      0.75     20768\n",
            "weighted avg       0.77      0.76      0.76     20768\n",
            " \n",
            "\n",
            "########################################################################\n",
            "--- 8.007882595062256 seconds --- time for LogisticRegression\n"
          ]
        }
      ],
      "source": [
        "## Logistic Regression(Without FS)\n",
        "M.LogisticRegression()"
      ]
    },
    {
      "cell_type": "code",
      "execution_count": null,
      "metadata": {
        "colab": {
          "base_uri": "https://localhost:8080/"
        },
        "id": "O3bcRPHnVPoW",
        "outputId": "abce9131-0e73-41f3-fa2c-db601c6bf5fb"
      },
      "outputs": [
        {
          "output_type": "stream",
          "name": "stdout",
          "text": [
            "Accuracy: 77.93%\n",
            "######################################################################\n",
            "Accuracy: 96.65%\n",
            "######################################################################\n",
            "Accuracy: 96.78%\n",
            "######################################################################\n",
            "Accuracy: 54.51%\n",
            "######################################################################\n",
            "Accuracy of SVM model 97.0% \n",
            "\n",
            "########################################################################\n",
            "best kernel is :  rbf\n",
            "########################################################################\n",
            "              precision    recall  f1-score   support\n",
            "\n",
            "           0       0.97      0.98      0.97     12439\n",
            "           1       0.97      0.95      0.96      8329\n",
            "\n",
            "    accuracy                           0.97     20768\n",
            "   macro avg       0.97      0.96      0.97     20768\n",
            "weighted avg       0.97      0.97      0.97     20768\n",
            "\n",
            "########################################################################\n",
            "--- 1603.7673835754395 seconds ---\n"
          ]
        }
      ],
      "source": [
        "## Support Vector Machine(Without FS)\n",
        "M.SupportVectorMachine()"
      ]
    },
    {
      "cell_type": "code",
      "execution_count": null,
      "metadata": {
        "colab": {
          "base_uri": "https://localhost:8080/"
        },
        "id": "CJpg25IIVPoX",
        "outputId": "8bd104b1-b5eb-4c87-8e37-e5156b4ce0b6"
      },
      "outputs": [
        {
          "output_type": "stream",
          "name": "stdout",
          "text": [
            "Fitting 5 folds for each of 180 candidates, totalling 900 fits\n",
            "criterion: gini, max depth: 8, max_leaf: 11\n",
            "The Accuracy is : 98.21%\n",
            "########################################################################\n",
            "              precision    recall  f1-score   support\n",
            "\n",
            "           0       0.98      0.99      0.99     12450\n",
            "           1       0.99      0.97      0.98      8318\n",
            "\n",
            "    accuracy                           0.98     20768\n",
            "   macro avg       0.98      0.98      0.98     20768\n",
            "weighted avg       0.98      0.98      0.98     20768\n",
            "\n",
            "########################################################################\n",
            "--- 177.6249556541443 seconds ---\n"
          ]
        }
      ],
      "source": [
        "## Decision Tree(Without FS)\n",
        "M.DecisionTree()"
      ]
    },
    {
      "cell_type": "code",
      "execution_count": null,
      "metadata": {
        "colab": {
          "base_uri": "https://localhost:8080/"
        },
        "id": "tUd_Cz8gDVZY",
        "outputId": "4c295298-9667-457c-9a86-03b86ac6e012"
      },
      "outputs": [
        {
          "output_type": "stream",
          "name": "stdout",
          "text": [
            "Mounted at /content/drive\n"
          ]
        }
      ],
      "source": [
        "from google.colab import drive\n",
        "drive.mount('/content/drive')"
      ]
    },
    {
      "cell_type": "code",
      "execution_count": null,
      "metadata": {
        "colab": {
          "base_uri": "https://localhost:8080/"
        },
        "id": "Zv8Yor3cVPoY",
        "outputId": "090997a0-2641-42e6-c829-e56ab8054667"
      },
      "outputs": [
        {
          "output_type": "stream",
          "name": "stdout",
          "text": [
            "Accuracy of RF is : 100.0% \n",
            "\n",
            "########################################################################\n",
            "              precision    recall  f1-score   support\n",
            "\n",
            "           0       1.00      1.00      1.00     12613\n",
            "           1       1.00      1.00      1.00      8155\n",
            "\n",
            "    accuracy                           1.00     20768\n",
            "   macro avg       1.00      1.00      1.00     20768\n",
            "weighted avg       1.00      1.00      1.00     20768\n",
            "\n",
            "########################################################################\n",
            "--- 36.98711180686951 seconds ---\n"
          ]
        }
      ],
      "source": [
        "## Random Forest Classification(Without FS)\n",
        "M.RandomForest()"
      ]
    },
    {
      "cell_type": "code",
      "execution_count": null,
      "metadata": {
        "colab": {
          "base_uri": "https://localhost:8080/",
          "height": 772
        },
        "id": "xc9kIzNlVPoZ",
        "outputId": "0bf4894c-2d01-420b-bb9f-8aff0d415f71"
      },
      "outputs": [
        {
          "output_type": "display_data",
          "data": {
            "text/plain": [
              "<Figure size 720x432 with 1 Axes>"
            ],
            "image/png": "[encoded data removed]"
          },
          "metadata": {
            "needs_background": "light"
          }
        },
        {
          "output_type": "stream",
          "name": "stdout",
          "text": [
            "Fitting 3 folds for each of 12 candidates, totalling 36 fits\n"
          ]
        },
        {
          "output_type": "stream",
          "name": "stderr",
          "text": [
            "/usr/local/lib/python3.7/dist-packages/joblib/externals/loky/process_executor.py:705: UserWarning: A worker stopped while some jobs were given to the executor. This can be caused by a too short worker timeout or by a memory leak.\n",
            "  \"timeout or by a memory leak.\", UserWarning\n"
          ]
        },
        {
          "output_type": "stream",
          "name": "stdout",
          "text": [
            "Accuracy of KNN model 98.0% \n",
            "\n",
            "########################################################################\n",
            "              precision    recall  f1-score   support\n",
            "\n",
            "           0       0.99      0.99      0.99     12598\n",
            "           1       0.98      0.98      0.98      8170\n",
            "\n",
            "    accuracy                           0.98     20768\n",
            "   macro avg       0.98      0.98      0.98     20768\n",
            "weighted avg       0.98      0.98      0.98     20768\n",
            "\n",
            "########################################################################\n",
            "--- 1267.4682397842407 seconds ---\n"
          ]
        }
      ],
      "source": [
        "M.KNearetsNeighbor()"
      ]
    },
    {
      "cell_type": "markdown",
      "metadata": {
        "id": "fbZrLqmKVPoZ"
      },
      "source": [
        "#### IV .Prediction With Feature Selection"
      ]
    },
    {
      "cell_type": "code",
      "execution_count": null,
      "metadata": {
        "id": "NekpVC1AVPoa"
      },
      "outputs": [],
      "source": [
        "df1 = data.copy()"
      ]
    },
    {
      "cell_type": "code",
      "execution_count": null,
      "metadata": {
        "id": "y0ApcSO5VPoa"
      },
      "outputs": [],
      "source": [
        "df1 = df1.dropna()"
      ]
    },
    {
      "cell_type": "code",
      "execution_count": null,
      "metadata": {
        "colab": {
          "base_uri": "https://localhost:8080/"
        },
        "id": "hbUpLCTJVPob",
        "outputId": "6380807f-00e2-4223-bba8-87cfa9b33bb3"
      },
      "outputs": [
        {
          "output_type": "execute_result",
          "data": {
            "text/plain": [
              "Index(['dt', 'switch', 'src', 'dst', 'pktcount', 'bytecount', 'dur',\n",
              "       'dur_nsec', 'tot_dur', 'flows', 'packetins', 'pktperflow',\n",
              "       'byteperflow', 'pktrate', 'Pairflow', 'Protocol', 'port_no', 'tx_bytes',\n",
              "       'rx_bytes', 'tx_kbps', 'rx_kbps', 'tot_kbps', 'label'],\n",
              "      dtype='object')"
            ]
          },
          "metadata": {},
          "execution_count": 38
        }
      ],
      "source": [
        "df1.columns"
      ]
    },
    {
      "cell_type": "code",
      "execution_count": null,
      "metadata": {
        "colab": {
          "base_uri": "https://localhost:8080/"
        },
        "id": "WyXURnclVPoc",
        "outputId": "b7192ace-41ee-48a2-f520-b8210475dabf"
      },
      "outputs": [
        {
          "output_type": "stream",
          "name": "stdout",
          "text": [
            "<class 'pandas.core.frame.DataFrame'>\n",
            "Int64Index: 103839 entries, 0 to 104344\n",
            "Data columns (total 23 columns):\n",
            " #   Column       Non-Null Count   Dtype  \n",
            "---  ------       --------------   -----  \n",
            " 0   dt           103839 non-null  int64  \n",
            " 1   switch       103839 non-null  int64  \n",
            " 2   src          103839 non-null  object \n",
            " 3   dst          103839 non-null  object \n",
            " 4   pktcount     103839 non-null  int64  \n",
            " 5   bytecount    103839 non-null  int64  \n",
            " 6   dur          103839 non-null  int64  \n",
            " 7   dur_nsec     103839 non-null  int64  \n",
            " 8   tot_dur      103839 non-null  float64\n",
            " 9   flows        103839 non-null  int64  \n",
            " 10  packetins    103839 non-null  int64  \n",
            " 11  pktperflow   103839 non-null  int64  \n",
            " 12  byteperflow  103839 non-null  int64  \n",
            " 13  pktrate      103839 non-null  int64  \n",
            " 14  Pairflow     103839 non-null  int64  \n",
            " 15  Protocol     103839 non-null  object \n",
            " 16  port_no      103839 non-null  int64  \n",
            " 17  tx_bytes     103839 non-null  int64  \n",
            " 18  rx_bytes     103839 non-null  int64  \n",
            " 19  tx_kbps      103839 non-null  int64  \n",
            " 20  rx_kbps      103839 non-null  float64\n",
            " 21  tot_kbps     103839 non-null  float64\n",
            " 22  label        103839 non-null  int64  \n",
            "dtypes: float64(3), int64(17), object(3)\n",
            "memory usage: 19.0+ MB\n"
          ]
        }
      ],
      "source": [
        "df1.info()"
      ]
    },
    {
      "cell_type": "markdown",
      "metadata": {
        "id": "fRKJ3zGLVPod"
      },
      "source": [
        "##### https://www.mdpi.com/2079-9292/10/11/1227/pdf\n",
        "##### So, I will use the Feature Selection result of this paper"
      ]
    },
    {
      "cell_type": "code",
      "execution_count": null,
      "metadata": {
        "id": "oEJhnO1IVPod"
      },
      "outputs": [],
      "source": [
        "important_features = [\n",
        "    'src',\n",
        "    'pktcount',\n",
        "    'dst',\n",
        "    'byteperflow',\n",
        "    'pktperflow',\n",
        "    'pktrate',\n",
        "    'tot_kbps',\n",
        "    'rx_kbps',\n",
        "    'flows',\n",
        "    'bytecount',\n",
        "    'dt',\n",
        "    'Protocol',\n",
        "    'dur',\n",
        "    'tot_dur'\n",
        "                      \n",
        "                     ]\n",
        "\n",
        "\n",
        "weights = [\n",
        "    17.87,\n",
        "    15.16,\n",
        "    13.64,\n",
        "    12.97,\n",
        "    11.35,\n",
        "    11.35,\n",
        "    9.68,\n",
        "    9.66,\n",
        "    8.95,\n",
        "    4.92,\n",
        "    2.33,\n",
        "    1.31,\n",
        "    1.11,\n",
        "    1.11\n",
        "]"
      ]
    },
    {
      "cell_type": "code",
      "execution_count": null,
      "metadata": {
        "colab": {
          "base_uri": "https://localhost:8080/"
        },
        "id": "7NmJiTnxVPof",
        "outputId": "30420425-4bb0-4000-ae54-9ba4682cc325"
      },
      "outputs": [
        {
          "output_type": "execute_result",
          "data": {
            "text/plain": [
              "       features  weights\n",
              "0           src    17.87\n",
              "1      pktcount    15.16\n",
              "2           dst    13.64\n",
              "3   byteperflow    12.97\n",
              "4    pktperflow    11.35\n",
              "5       pktrate    11.35\n",
              "6      tot_kbps     9.68\n",
              "7       rx_kbps     9.66\n",
              "8         flows     8.95\n",
              "9     bytecount     4.92\n",
              "10           dt     2.33\n",
              "11     Protocol     1.31\n",
              "12          dur     1.11\n",
              "13      tot_dur     1.11"
            ],
            "text/html": [
              "\n",
              "  <div id=\"df-9fc029dd-d69d-4509-92c7-bd82a1b40d6f\">\n",
              "    <div class=\"colab-df-container\">\n",
              "      <div>\n",
              "<style scoped>\n",
              "    .dataframe tbody tr th:only-of-type {\n",
              "        vertical-align: middle;\n",
              "    }\n",
              "\n",
              "    .dataframe tbody tr th {\n",
              "        vertical-align: top;\n",
              "    }\n",
              "\n",
              "    .dataframe thead th {\n",
              "        text-align: right;\n",
              "    }\n",
              "</style>\n",
              "<table border=\"1\" class=\"dataframe\">\n",
              "  <thead>\n",
              "    <tr style=\"text-align: right;\">\n",
              "      <th></th>\n",
              "      <th>features</th>\n",
              "      <th>weights</th>\n",
              "    </tr>\n",
              "  </thead>\n",
              "  <tbody>\n",
              "    <tr>\n",
              "      <th>0</th>\n",
              "      <td>src</td>\n",
              "      <td>17.87</td>\n",
              "    </tr>\n",
              "    <tr>\n",
              "      <th>1</th>\n",
              "      <td>pktcount</td>\n",
              "      <td>15.16</td>\n",
              "    </tr>\n",
              "    <tr>\n",
              "      <th>2</th>\n",
              "      <td>dst</td>\n",
              "      <td>13.64</td>\n",
              "    </tr>\n",
              "    <tr>\n",
              "      <th>3</th>\n",
              "      <td>byteperflow</td>\n",
              "      <td>12.97</td>\n",
              "    </tr>\n",
              "    <tr>\n",
              "      <th>4</th>\n",
              "      <td>pktperflow</td>\n",
              "      <td>11.35</td>\n",
              "    </tr>\n",
              "    <tr>\n",
              "      <th>5</th>\n",
              "      <td>pktrate</td>\n",
              "      <td>11.35</td>\n",
              "    </tr>\n",
              "    <tr>\n",
              "      <th>6</th>\n",
              "      <td>tot_kbps</td>\n",
              "      <td>9.68</td>\n",
              "    </tr>\n",
              "    <tr>\n",
              "      <th>7</th>\n",
              "      <td>rx_kbps</td>\n",
              "      <td>9.66</td>\n",
              "    </tr>\n",
              "    <tr>\n",
              "      <th>8</th>\n",
              "      <td>flows</td>\n",
              "      <td>8.95</td>\n",
              "    </tr>\n",
              "    <tr>\n",
              "      <th>9</th>\n",
              "      <td>bytecount</td>\n",
              "      <td>4.92</td>\n",
              "    </tr>\n",
              "    <tr>\n",
              "      <th>10</th>\n",
              "      <td>dt</td>\n",
              "      <td>2.33</td>\n",
              "    </tr>\n",
              "    <tr>\n",
              "      <th>11</th>\n",
              "      <td>Protocol</td>\n",
              "      <td>1.31</td>\n",
              "    </tr>\n",
              "    <tr>\n",
              "      <th>12</th>\n",
              "      <td>dur</td>\n",
              "      <td>1.11</td>\n",
              "    </tr>\n",
              "    <tr>\n",
              "      <th>13</th>\n",
              "      <td>tot_dur</td>\n",
              "      <td>1.11</td>\n",
              "    </tr>\n",
              "  </tbody>\n",
              "</table>\n",
              "</div>\n",
              "      <button class=\"colab-df-convert\" onclick=\"convertToInteractive('df-9fc029dd-d69d-4509-92c7-bd82a1b40d6f')\"\n",
              "              title=\"Convert this dataframe to an interactive table.\"\n",
              "              style=\"display:none;\">\n",
              "        \n",
              "  <svg xmlns=\"http://www.w3.org/2000/svg\" height=\"24px\"viewBox=\"0 0 24 24\"\n",
              "       width=\"24px\">\n",
              "    <path d=\"M0 0h24v24H0V0z\" fill=\"none\"/>\n",
              "    <path d=\"M18.56 5.44l.94 2.06.94-2.06 2.06-.94-2.06-.94-.94-2.06-.94 2.06-2.06.94zm-11 1L8.5 8.5l.94-2.06 2.06-.94-2.06-.94L8.5 2.5l-.94 2.06-2.06.94zm10 10l.94 2.06.94-2.06 2.06-.94-2.06-.94-.94-2.06-.94 2.06-2.06.94z\"/><path d=\"M17.41 7.96l-1.37-1.37c-.4-.4-.92-.59-1.43-.59-.52 0-1.04.2-1.43.59L10.3 9.45l-7.72 7.72c-.78.78-.78 2.05 0 2.83L4 21.41c.39.39.9.59 1.41.59.51 0 1.02-.2 1.41-.59l7.78-7.78 2.81-2.81c.8-.78.8-2.07 0-2.86zM5.41 20L4 18.59l7.72-7.72 1.47 1.35L5.41 20z\"/>\n",
              "  </svg>\n",
              "      </button>\n",
              "      \n",
              "  <style>\n",
              "    .colab-df-container {\n",
              "      display:flex;\n",
              "      flex-wrap:wrap;\n",
              "      gap: 12px;\n",
              "    }\n",
              "\n",
              "    .colab-df-convert {\n",
              "      background-color: #E8F0FE;\n",
              "      border: none;\n",
              "      border-radius: 50%;\n",
              "      cursor: pointer;\n",
              "      display: none;\n",
              "      fill: #1967D2;\n",
              "      height: 32px;\n",
              "      padding: 0 0 0 0;\n",
              "      width: 32px;\n",
              "    }\n",
              "\n",
              "    .colab-df-convert:hover {\n",
              "      background-color: #E2EBFA;\n",
              "      box-shadow: 0px 1px 2px rgba(60, 64, 67, 0.3), 0px 1px 3px 1px rgba(60, 64, 67, 0.15);\n",
              "      fill: #174EA6;\n",
              "    }\n",
              "\n",
              "    [theme=dark] .colab-df-convert {\n",
              "      background-color: #3B4455;\n",
              "      fill: #D2E3FC;\n",
              "    }\n",
              "\n",
              "    [theme=dark] .colab-df-convert:hover {\n",
              "      background-color: #434B5C;\n",
              "      box-shadow: 0px 1px 3px 1px rgba(0, 0, 0, 0.15);\n",
              "      filter: drop-shadow(0px 1px 2px rgba(0, 0, 0, 0.3));\n",
              "      fill: #FFFFFF;\n",
              "    }\n",
              "  </style>\n",
              "\n",
              "      <script>\n",
              "        const buttonEl =\n",
              "          document.querySelector('#df-9fc029dd-d69d-4509-92c7-bd82a1b40d6f button.colab-df-convert');\n",
              "        buttonEl.style.display =\n",
              "          google.colab.kernel.accessAllowed ? 'block' : 'none';\n",
              "\n",
              "        async function convertToInteractive(key) {\n",
              "          const element = document.querySelector('#df-9fc029dd-d69d-4509-92c7-bd82a1b40d6f');\n",
              "          const dataTable =\n",
              "            await google.colab.kernel.invokeFunction('convertToInteractive',\n",
              "                                                     [key], {});\n",
              "          if (!dataTable) return;\n",
              "\n",
              "          const docLinkHtml = 'Like what you see? Visit the ' +\n",
              "            '<a target=\"_blank\" href=https://colab.research.google.com/notebooks/data_table.ipynb>data table notebook</a>'\n",
              "            + ' to learn more about interactive tables.';\n",
              "          element.innerHTML = '';\n",
              "          dataTable['output_type'] = 'display_data';\n",
              "          await google.colab.output.renderOutput(dataTable, element);\n",
              "          const docLink = document.createElement('div');\n",
              "          docLink.innerHTML = docLinkHtml;\n",
              "          element.appendChild(docLink);\n",
              "        }\n",
              "      </script>\n",
              "    </div>\n",
              "  </div>\n",
              "  "
            ]
          },
          "metadata": {},
          "execution_count": 41
        }
      ],
      "source": [
        "weighted_features = pd.DataFrame({'features':important_features,\n",
        "                                 'weights':weights})\n",
        "weighted_features"
      ]
    },
    {
      "cell_type": "code",
      "execution_count": null,
      "metadata": {
        "id": "skE17uUWVPog"
      },
      "outputs": [],
      "source": [
        "### But we dont need src, dst, dt, So, we will drop them\n",
        "X = df1[important_features]\n",
        "y = df1.label\n",
        "\n",
        "X = X.drop(['src', 'dst', 'dt'], axis=1)"
      ]
    },
    {
      "cell_type": "code",
      "execution_count": null,
      "metadata": {
        "colab": {
          "base_uri": "https://localhost:8080/"
        },
        "id": "jhNYmNBLVPoh",
        "outputId": "2ba4ef20-94bc-46c0-95ed-04bf306f8601"
      },
      "outputs": [
        {
          "output_type": "execute_result",
          "data": {
            "text/plain": [
              "   pktcount  byteperflow  pktperflow  pktrate  tot_kbps  rx_kbps  flows  \\\n",
              "0     45304     14428310       13535      451       0.0      0.0      3   \n",
              "1    126395     14424046       13531      451       0.0      0.0      2   \n",
              "2     90333     14427244       13534      451       0.0      0.0      3   \n",
              "3     90333     14427244       13534      451       0.0      0.0      3   \n",
              "4     90333     14427244       13534      451       0.0      0.0      3   \n",
              "\n",
              "   bytecount Protocol  dur       tot_dur  \n",
              "0   48294064      UDP  100  1.010000e+11  \n",
              "1  134737070      UDP  280  2.810000e+11  \n",
              "2   96294978      UDP  200  2.010000e+11  \n",
              "3   96294978      UDP  200  2.010000e+11  \n",
              "4   96294978      UDP  200  2.010000e+11  "
            ],
            "text/html": [
              "\n",
              "  <div id=\"df-a28b5fae-873a-4cce-b8ac-751f804df169\">\n",
              "    <div class=\"colab-df-container\">\n",
              "      <div>\n",
              "<style scoped>\n",
              "    .dataframe tbody tr th:only-of-type {\n",
              "        vertical-align: middle;\n",
              "    }\n",
              "\n",
              "    .dataframe tbody tr th {\n",
              "        vertical-align: top;\n",
              "    }\n",
              "\n",
              "    .dataframe thead th {\n",
              "        text-align: right;\n",
              "    }\n",
              "</style>\n",
              "<table border=\"1\" class=\"dataframe\">\n",
              "  <thead>\n",
              "    <tr style=\"text-align: right;\">\n",
              "      <th></th>\n",
              "      <th>pktcount</th>\n",
              "      <th>byteperflow</th>\n",
              "      <th>pktperflow</th>\n",
              "      <th>pktrate</th>\n",
              "      <th>tot_kbps</th>\n",
              "      <th>rx_kbps</th>\n",
              "      <th>flows</th>\n",
              "      <th>bytecount</th>\n",
              "      <th>Protocol</th>\n",
              "      <th>dur</th>\n",
              "      <th>tot_dur</th>\n",
              "    </tr>\n",
              "  </thead>\n",
              "  <tbody>\n",
              "    <tr>\n",
              "      <th>0</th>\n",
              "      <td>45304</td>\n",
              "      <td>14428310</td>\n",
              "      <td>13535</td>\n",
              "      <td>451</td>\n",
              "      <td>0.0</td>\n",
              "      <td>0.0</td>\n",
              "      <td>3</td>\n",
              "      <td>48294064</td>\n",
              "      <td>UDP</td>\n",
              "      <td>100</td>\n",
              "      <td>1.010000e+11</td>\n",
              "    </tr>\n",
              "    <tr>\n",
              "      <th>1</th>\n",
              "      <td>126395</td>\n",
              "      <td>14424046</td>\n",
              "      <td>13531</td>\n",
              "      <td>451</td>\n",
              "      <td>0.0</td>\n",
              "      <td>0.0</td>\n",
              "      <td>2</td>\n",
              "      <td>134737070</td>\n",
              "      <td>UDP</td>\n",
              "      <td>280</td>\n",
              "      <td>2.810000e+11</td>\n",
              "    </tr>\n",
              "    <tr>\n",
              "      <th>2</th>\n",
              "      <td>90333</td>\n",
              "      <td>14427244</td>\n",
              "      <td>13534</td>\n",
              "      <td>451</td>\n",
              "      <td>0.0</td>\n",
              "      <td>0.0</td>\n",
              "      <td>3</td>\n",
              "      <td>96294978</td>\n",
              "      <td>UDP</td>\n",
              "      <td>200</td>\n",
              "      <td>2.010000e+11</td>\n",
              "    </tr>\n",
              "    <tr>\n",
              "      <th>3</th>\n",
              "      <td>90333</td>\n",
              "      <td>14427244</td>\n",
              "      <td>13534</td>\n",
              "      <td>451</td>\n",
              "      <td>0.0</td>\n",
              "      <td>0.0</td>\n",
              "      <td>3</td>\n",
              "      <td>96294978</td>\n",
              "      <td>UDP</td>\n",
              "      <td>200</td>\n",
              "      <td>2.010000e+11</td>\n",
              "    </tr>\n",
              "    <tr>\n",
              "      <th>4</th>\n",
              "      <td>90333</td>\n",
              "      <td>14427244</td>\n",
              "      <td>13534</td>\n",
              "      <td>451</td>\n",
              "      <td>0.0</td>\n",
              "      <td>0.0</td>\n",
              "      <td>3</td>\n",
              "      <td>96294978</td>\n",
              "      <td>UDP</td>\n",
              "      <td>200</td>\n",
              "      <td>2.010000e+11</td>\n",
              "    </tr>\n",
              "  </tbody>\n",
              "</table>\n",
              "</div>\n",
              "      <button class=\"colab-df-convert\" onclick=\"convertToInteractive('df-a28b5fae-873a-4cce-b8ac-751f804df169')\"\n",
              "              title=\"Convert this dataframe to an interactive table.\"\n",
              "              style=\"display:none;\">\n",
              "        \n",
              "  <svg xmlns=\"http://www.w3.org/2000/svg\" height=\"24px\"viewBox=\"0 0 24 24\"\n",
              "       width=\"24px\">\n",
              "    <path d=\"M0 0h24v24H0V0z\" fill=\"none\"/>\n",
              "    <path d=\"M18.56 5.44l.94 2.06.94-2.06 2.06-.94-2.06-.94-.94-2.06-.94 2.06-2.06.94zm-11 1L8.5 8.5l.94-2.06 2.06-.94-2.06-.94L8.5 2.5l-.94 2.06-2.06.94zm10 10l.94 2.06.94-2.06 2.06-.94-2.06-.94-.94-2.06-.94 2.06-2.06.94z\"/><path d=\"M17.41 7.96l-1.37-1.37c-.4-.4-.92-.59-1.43-.59-.52 0-1.04.2-1.43.59L10.3 9.45l-7.72 7.72c-.78.78-.78 2.05 0 2.83L4 21.41c.39.39.9.59 1.41.59.51 0 1.02-.2 1.41-.59l7.78-7.78 2.81-2.81c.8-.78.8-2.07 0-2.86zM5.41 20L4 18.59l7.72-7.72 1.47 1.35L5.41 20z\"/>\n",
              "  </svg>\n",
              "      </button>\n",
              "      \n",
              "  <style>\n",
              "    .colab-df-container {\n",
              "      display:flex;\n",
              "      flex-wrap:wrap;\n",
              "      gap: 12px;\n",
              "    }\n",
              "\n",
              "    .colab-df-convert {\n",
              "      background-color: #E8F0FE;\n",
              "      border: none;\n",
              "      border-radius: 50%;\n",
              "      cursor: pointer;\n",
              "      display: none;\n",
              "      fill: #1967D2;\n",
              "      height: 32px;\n",
              "      padding: 0 0 0 0;\n",
              "      width: 32px;\n",
              "    }\n",
              "\n",
              "    .colab-df-convert:hover {\n",
              "      background-color: #E2EBFA;\n",
              "      box-shadow: 0px 1px 2px rgba(60, 64, 67, 0.3), 0px 1px 3px 1px rgba(60, 64, 67, 0.15);\n",
              "      fill: #174EA6;\n",
              "    }\n",
              "\n",
              "    [theme=dark] .colab-df-convert {\n",
              "      background-color: #3B4455;\n",
              "      fill: #D2E3FC;\n",
              "    }\n",
              "\n",
              "    [theme=dark] .colab-df-convert:hover {\n",
              "      background-color: #434B5C;\n",
              "      box-shadow: 0px 1px 3px 1px rgba(0, 0, 0, 0.15);\n",
              "      filter: drop-shadow(0px 1px 2px rgba(0, 0, 0, 0.3));\n",
              "      fill: #FFFFFF;\n",
              "    }\n",
              "  </style>\n",
              "\n",
              "      <script>\n",
              "        const buttonEl =\n",
              "          document.querySelector('#df-a28b5fae-873a-4cce-b8ac-751f804df169 button.colab-df-convert');\n",
              "        buttonEl.style.display =\n",
              "          google.colab.kernel.accessAllowed ? 'block' : 'none';\n",
              "\n",
              "        async function convertToInteractive(key) {\n",
              "          const element = document.querySelector('#df-a28b5fae-873a-4cce-b8ac-751f804df169');\n",
              "          const dataTable =\n",
              "            await google.colab.kernel.invokeFunction('convertToInteractive',\n",
              "                                                     [key], {});\n",
              "          if (!dataTable) return;\n",
              "\n",
              "          const docLinkHtml = 'Like what you see? Visit the ' +\n",
              "            '<a target=\"_blank\" href=https://colab.research.google.com/notebooks/data_table.ipynb>data table notebook</a>'\n",
              "            + ' to learn more about interactive tables.';\n",
              "          element.innerHTML = '';\n",
              "          dataTable['output_type'] = 'display_data';\n",
              "          await google.colab.output.renderOutput(dataTable, element);\n",
              "          const docLink = document.createElement('div');\n",
              "          docLink.innerHTML = docLinkHtml;\n",
              "          element.appendChild(docLink);\n",
              "        }\n",
              "      </script>\n",
              "    </div>\n",
              "  </div>\n",
              "  "
            ]
          },
          "metadata": {},
          "execution_count": 43
        }
      ],
      "source": [
        "X.head()"
      ]
    },
    {
      "cell_type": "code",
      "execution_count": null,
      "metadata": {
        "colab": {
          "base_uri": "https://localhost:8080/"
        },
        "id": "z4gEcDiAVPoi",
        "outputId": "43e87dde-625f-43c3-dd60-80e96fc0d82b"
      },
      "outputs": [
        {
          "output_type": "execute_result",
          "data": {
            "text/plain": [
              "             pktcount  byteperflow  pktperflow   pktrate  tot_kbps   rx_kbps  \\\n",
              "pktcount     1.000000     0.290614    0.470065  0.470097  0.003054  0.002328   \n",
              "byteperflow  0.290614     1.000000    0.812940  0.812940  0.150260  0.114963   \n",
              "pktperflow   0.470065     0.812940    1.000000  0.999999  0.162416  0.124257   \n",
              "pktrate      0.470097     0.812940    0.999999  1.000000  0.162461  0.124291   \n",
              "tot_kbps     0.003054     0.150260    0.162416  0.162461  1.000000  0.635545   \n",
              "rx_kbps      0.002328     0.114963    0.124257  0.124291  0.635545  1.000000   \n",
              "flows        0.257467     0.246311    0.212795  0.212924  0.240285  0.183821   \n",
              "bytecount    0.675792     0.533201    0.333530  0.333553  0.076920  0.058850   \n",
              "dur          0.023222     0.259843    0.329504  0.329764  0.218143  0.166916   \n",
              "tot_dur      0.023283     0.259831    0.329483  0.329744  0.218268  0.167011   \n",
              "\n",
              "                flows  bytecount       dur   tot_dur  \n",
              "pktcount     0.257467   0.675792  0.023222  0.023283  \n",
              "byteperflow  0.246311   0.533201  0.259843  0.259831  \n",
              "pktperflow   0.212795   0.333530  0.329504  0.329483  \n",
              "pktrate      0.212924   0.333553  0.329764  0.329744  \n",
              "tot_kbps     0.240285   0.076920  0.218143  0.218268  \n",
              "rx_kbps      0.183821   0.058850  0.166916  0.167011  \n",
              "flows        1.000000   0.244514  0.176351  0.176352  \n",
              "bytecount    0.244514   1.000000  0.038033  0.038034  \n",
              "dur          0.176351   0.038033  1.000000  0.999998  \n",
              "tot_dur      0.176352   0.038034  0.999998  1.000000  "
            ],
            "text/html": [
              "\n",
              "  <div id=\"df-027015f2-8c5a-44d6-b2f4-f576c07391b7\">\n",
              "    <div class=\"colab-df-container\">\n",
              "      <div>\n",
              "<style scoped>\n",
              "    .dataframe tbody tr th:only-of-type {\n",
              "        vertical-align: middle;\n",
              "    }\n",
              "\n",
              "    .dataframe tbody tr th {\n",
              "        vertical-align: top;\n",
              "    }\n",
              "\n",
              "    .dataframe thead th {\n",
              "        text-align: right;\n",
              "    }\n",
              "</style>\n",
              "<table border=\"1\" class=\"dataframe\">\n",
              "  <thead>\n",
              "    <tr style=\"text-align: right;\">\n",
              "      <th></th>\n",
              "      <th>pktcount</th>\n",
              "      <th>byteperflow</th>\n",
              "      <th>pktperflow</th>\n",
              "      <th>pktrate</th>\n",
              "      <th>tot_kbps</th>\n",
              "      <th>rx_kbps</th>\n",
              "      <th>flows</th>\n",
              "      <th>bytecount</th>\n",
              "      <th>dur</th>\n",
              "      <th>tot_dur</th>\n",
              "    </tr>\n",
              "  </thead>\n",
              "  <tbody>\n",
              "    <tr>\n",
              "      <th>pktcount</th>\n",
              "      <td>1.000000</td>\n",
              "      <td>0.290614</td>\n",
              "      <td>0.470065</td>\n",
              "      <td>0.470097</td>\n",
              "      <td>0.003054</td>\n",
              "      <td>0.002328</td>\n",
              "      <td>0.257467</td>\n",
              "      <td>0.675792</td>\n",
              "      <td>0.023222</td>\n",
              "      <td>0.023283</td>\n",
              "    </tr>\n",
              "    <tr>\n",
              "      <th>byteperflow</th>\n",
              "      <td>0.290614</td>\n",
              "      <td>1.000000</td>\n",
              "      <td>0.812940</td>\n",
              "      <td>0.812940</td>\n",
              "      <td>0.150260</td>\n",
              "      <td>0.114963</td>\n",
              "      <td>0.246311</td>\n",
              "      <td>0.533201</td>\n",
              "      <td>0.259843</td>\n",
              "      <td>0.259831</td>\n",
              "    </tr>\n",
              "    <tr>\n",
              "      <th>pktperflow</th>\n",
              "      <td>0.470065</td>\n",
              "      <td>0.812940</td>\n",
              "      <td>1.000000</td>\n",
              "      <td>0.999999</td>\n",
              "      <td>0.162416</td>\n",
              "      <td>0.124257</td>\n",
              "      <td>0.212795</td>\n",
              "      <td>0.333530</td>\n",
              "      <td>0.329504</td>\n",
              "      <td>0.329483</td>\n",
              "    </tr>\n",
              "    <tr>\n",
              "      <th>pktrate</th>\n",
              "      <td>0.470097</td>\n",
              "      <td>0.812940</td>\n",
              "      <td>0.999999</td>\n",
              "      <td>1.000000</td>\n",
              "      <td>0.162461</td>\n",
              "      <td>0.124291</td>\n",
              "      <td>0.212924</td>\n",
              "      <td>0.333553</td>\n",
              "      <td>0.329764</td>\n",
              "      <td>0.329744</td>\n",
              "    </tr>\n",
              "    <tr>\n",
              "      <th>tot_kbps</th>\n",
              "      <td>0.003054</td>\n",
              "      <td>0.150260</td>\n",
              "      <td>0.162416</td>\n",
              "      <td>0.162461</td>\n",
              "      <td>1.000000</td>\n",
              "      <td>0.635545</td>\n",
              "      <td>0.240285</td>\n",
              "      <td>0.076920</td>\n",
              "      <td>0.218143</td>\n",
              "      <td>0.218268</td>\n",
              "    </tr>\n",
              "    <tr>\n",
              "      <th>rx_kbps</th>\n",
              "      <td>0.002328</td>\n",
              "      <td>0.114963</td>\n",
              "      <td>0.124257</td>\n",
              "      <td>0.124291</td>\n",
              "      <td>0.635545</td>\n",
              "      <td>1.000000</td>\n",
              "      <td>0.183821</td>\n",
              "      <td>0.058850</td>\n",
              "      <td>0.166916</td>\n",
              "      <td>0.167011</td>\n",
              "    </tr>\n",
              "    <tr>\n",
              "      <th>flows</th>\n",
              "      <td>0.257467</td>\n",
              "      <td>0.246311</td>\n",
              "      <td>0.212795</td>\n",
              "      <td>0.212924</td>\n",
              "      <td>0.240285</td>\n",
              "      <td>0.183821</td>\n",
              "      <td>1.000000</td>\n",
              "      <td>0.244514</td>\n",
              "      <td>0.176351</td>\n",
              "      <td>0.176352</td>\n",
              "    </tr>\n",
              "    <tr>\n",
              "      <th>bytecount</th>\n",
              "      <td>0.675792</td>\n",
              "      <td>0.533201</td>\n",
              "      <td>0.333530</td>\n",
              "      <td>0.333553</td>\n",
              "      <td>0.076920</td>\n",
              "      <td>0.058850</td>\n",
              "      <td>0.244514</td>\n",
              "      <td>1.000000</td>\n",
              "      <td>0.038033</td>\n",
              "      <td>0.038034</td>\n",
              "    </tr>\n",
              "    <tr>\n",
              "      <th>dur</th>\n",
              "      <td>0.023222</td>\n",
              "      <td>0.259843</td>\n",
              "      <td>0.329504</td>\n",
              "      <td>0.329764</td>\n",
              "      <td>0.218143</td>\n",
              "      <td>0.166916</td>\n",
              "      <td>0.176351</td>\n",
              "      <td>0.038033</td>\n",
              "      <td>1.000000</td>\n",
              "      <td>0.999998</td>\n",
              "    </tr>\n",
              "    <tr>\n",
              "      <th>tot_dur</th>\n",
              "      <td>0.023283</td>\n",
              "      <td>0.259831</td>\n",
              "      <td>0.329483</td>\n",
              "      <td>0.329744</td>\n",
              "      <td>0.218268</td>\n",
              "      <td>0.167011</td>\n",
              "      <td>0.176352</td>\n",
              "      <td>0.038034</td>\n",
              "      <td>0.999998</td>\n",
              "      <td>1.000000</td>\n",
              "    </tr>\n",
              "  </tbody>\n",
              "</table>\n",
              "</div>\n",
              "      <button class=\"colab-df-convert\" onclick=\"convertToInteractive('df-027015f2-8c5a-44d6-b2f4-f576c07391b7')\"\n",
              "              title=\"Convert this dataframe to an interactive table.\"\n",
              "              style=\"display:none;\">\n",
              "        \n",
              "  <svg xmlns=\"http://www.w3.org/2000/svg\" height=\"24px\"viewBox=\"0 0 24 24\"\n",
              "       width=\"24px\">\n",
              "    <path d=\"M0 0h24v24H0V0z\" fill=\"none\"/>\n",
              "    <path d=\"M18.56 5.44l.94 2.06.94-2.06 2.06-.94-2.06-.94-.94-2.06-.94 2.06-2.06.94zm-11 1L8.5 8.5l.94-2.06 2.06-.94-2.06-.94L8.5 2.5l-.94 2.06-2.06.94zm10 10l.94 2.06.94-2.06 2.06-.94-2.06-.94-.94-2.06-.94 2.06-2.06.94z\"/><path d=\"M17.41 7.96l-1.37-1.37c-.4-.4-.92-.59-1.43-.59-.52 0-1.04.2-1.43.59L10.3 9.45l-7.72 7.72c-.78.78-.78 2.05 0 2.83L4 21.41c.39.39.9.59 1.41.59.51 0 1.02-.2 1.41-.59l7.78-7.78 2.81-2.81c.8-.78.8-2.07 0-2.86zM5.41 20L4 18.59l7.72-7.72 1.47 1.35L5.41 20z\"/>\n",
              "  </svg>\n",
              "      </button>\n",
              "      \n",
              "  <style>\n",
              "    .colab-df-container {\n",
              "      display:flex;\n",
              "      flex-wrap:wrap;\n",
              "      gap: 12px;\n",
              "    }\n",
              "\n",
              "    .colab-df-convert {\n",
              "      background-color: #E8F0FE;\n",
              "      border: none;\n",
              "      border-radius: 50%;\n",
              "      cursor: pointer;\n",
              "      display: none;\n",
              "      fill: #1967D2;\n",
              "      height: 32px;\n",
              "      padding: 0 0 0 0;\n",
              "      width: 32px;\n",
              "    }\n",
              "\n",
              "    .colab-df-convert:hover {\n",
              "      background-color: #E2EBFA;\n",
              "      box-shadow: 0px 1px 2px rgba(60, 64, 67, 0.3), 0px 1px 3px 1px rgba(60, 64, 67, 0.15);\n",
              "      fill: #174EA6;\n",
              "    }\n",
              "\n",
              "    [theme=dark] .colab-df-convert {\n",
              "      background-color: #3B4455;\n",
              "      fill: #D2E3FC;\n",
              "    }\n",
              "\n",
              "    [theme=dark] .colab-df-convert:hover {\n",
              "      background-color: #434B5C;\n",
              "      box-shadow: 0px 1px 3px 1px rgba(0, 0, 0, 0.15);\n",
              "      filter: drop-shadow(0px 1px 2px rgba(0, 0, 0, 0.3));\n",
              "      fill: #FFFFFF;\n",
              "    }\n",
              "  </style>\n",
              "\n",
              "      <script>\n",
              "        const buttonEl =\n",
              "          document.querySelector('#df-027015f2-8c5a-44d6-b2f4-f576c07391b7 button.colab-df-convert');\n",
              "        buttonEl.style.display =\n",
              "          google.colab.kernel.accessAllowed ? 'block' : 'none';\n",
              "\n",
              "        async function convertToInteractive(key) {\n",
              "          const element = document.querySelector('#df-027015f2-8c5a-44d6-b2f4-f576c07391b7');\n",
              "          const dataTable =\n",
              "            await google.colab.kernel.invokeFunction('convertToInteractive',\n",
              "                                                     [key], {});\n",
              "          if (!dataTable) return;\n",
              "\n",
              "          const docLinkHtml = 'Like what you see? Visit the ' +\n",
              "            '<a target=\"_blank\" href=https://colab.research.google.com/notebooks/data_table.ipynb>data table notebook</a>'\n",
              "            + ' to learn more about interactive tables.';\n",
              "          element.innerHTML = '';\n",
              "          dataTable['output_type'] = 'display_data';\n",
              "          await google.colab.output.renderOutput(dataTable, element);\n",
              "          const docLink = document.createElement('div');\n",
              "          docLink.innerHTML = docLinkHtml;\n",
              "          element.appendChild(docLink);\n",
              "        }\n",
              "      </script>\n",
              "    </div>\n",
              "  </div>\n",
              "  "
            ]
          },
          "metadata": {},
          "execution_count": 44
        }
      ],
      "source": [
        "abs(X.corr())"
      ]
    },
    {
      "cell_type": "code",
      "execution_count": null,
      "metadata": {
        "colab": {
          "base_uri": "https://localhost:8080/"
        },
        "id": "f55yS0LbVPoj",
        "outputId": "c470226a-9bbd-44c4-cbc6-e5ea137fa0a5"
      },
      "outputs": [
        {
          "output_type": "execute_result",
          "data": {
            "text/plain": [
              "<matplotlib.axes._subplots.AxesSubplot at 0x7facc144f550>"
            ]
          },
          "metadata": {},
          "execution_count": 45
        },
        {
          "output_type": "display_data",
          "data": {
            "text/plain": [
              "<Figure size 720x504 with 2 Axes>"
            ],
            "image/png": "[encoded data removed]"
          },
          "metadata": {
            "needs_background": "light"
          }
        }
      ],
      "source": [
        "fig, ax = plt.subplots(figsize=(10,7)) \n",
        "sns.heatmap(abs(X.corr()), annot=True)"
      ]
    },
    {
      "cell_type": "code",
      "execution_count": null,
      "metadata": {
        "id": "uxnrnfDOVPoj"
      },
      "outputs": [],
      "source": [
        "### There some duplicated features and high correlated features"
      ]
    },
    {
      "cell_type": "code",
      "execution_count": null,
      "metadata": {
        "id": "3kg29lu0VPok"
      },
      "outputs": [],
      "source": [
        "## \"dur\" and \"tot_dur\"\n",
        "## \"pktperflow\" and \"pktrate\"\n",
        "\n",
        "X = X.drop(['dur', \"pktrate\", \"pktperflow\"], axis=1)"
      ]
    },
    {
      "cell_type": "code",
      "execution_count": null,
      "metadata": {
        "colab": {
          "base_uri": "https://localhost:8080/"
        },
        "id": "sSfgxAepVPol",
        "outputId": "d6941671-9910-4ce3-d70a-3a477563899b"
      },
      "outputs": [
        {
          "output_type": "execute_result",
          "data": {
            "text/plain": [
              "Index(['pktcount', 'byteperflow', 'tot_kbps', 'rx_kbps', 'flows', 'bytecount',\n",
              "       'Protocol', 'tot_dur'],\n",
              "      dtype='object')"
            ]
          },
          "metadata": {},
          "execution_count": 48
        }
      ],
      "source": [
        "X.columns"
      ]
    },
    {
      "cell_type": "code",
      "execution_count": null,
      "metadata": {
        "colab": {
          "base_uri": "https://localhost:8080/"
        },
        "id": "htc_d41OVPol",
        "outputId": "c6fe9952-e4cb-4e2e-efdf-4a8eebf645d1"
      },
      "outputs": [
        {
          "output_type": "execute_result",
          "data": {
            "text/plain": [
              "<matplotlib.axes._subplots.AxesSubplot at 0x7facc1275990>"
            ]
          },
          "metadata": {},
          "execution_count": 49
        },
        {
          "output_type": "display_data",
          "data": {
            "text/plain": [
              "<Figure size 720x504 with 2 Axes>"
            ],
            "image/png": "[encoded data removed]"
          },
          "metadata": {
            "needs_background": "light"
          }
        }
      ],
      "source": [
        "fig, ax = plt.subplots(figsize=(10,7)) \n",
        "sns.heatmap(abs(X.corr()), annot=True)"
      ]
    },
    {
      "cell_type": "code",
      "execution_count": null,
      "metadata": {
        "id": "hBc_ZuOiVPom"
      },
      "outputs": [],
      "source": [
        "X = pd.get_dummies(X)"
      ]
    },
    {
      "cell_type": "code",
      "execution_count": null,
      "metadata": {
        "id": "RKKy6DseVPon"
      },
      "outputs": [],
      "source": [
        "M = Model(X)"
      ]
    },
    {
      "cell_type": "code",
      "execution_count": null,
      "metadata": {
        "colab": {
          "base_uri": "https://localhost:8080/"
        },
        "id": "f4hbdC1IVPoo",
        "outputId": "0d551d60-8d14-464a-d301-bd11af1137c0"
      },
      "outputs": [
        {
          "output_type": "stream",
          "name": "stdout",
          "text": [
            "Accuracy: 75.04% \n",
            "\n",
            "########################################################################\n",
            "Best solver is :  liblinear\n",
            "########################################################################\n",
            "              precision    recall  f1-score   support\n",
            "\n",
            "           0       0.85      0.77      0.80     13939\n",
            "           1       0.60      0.72      0.65      6829\n",
            "\n",
            "    accuracy                           0.75     20768\n",
            "   macro avg       0.72      0.74      0.73     20768\n",
            "weighted avg       0.77      0.75      0.76     20768\n",
            " \n",
            "\n",
            "########################################################################\n",
            "--- 2.620626449584961 seconds --- time for LogisticRegression\n"
          ]
        }
      ],
      "source": [
        "## Logistic Regression(With FS)\n",
        "M.LogisticRegression()"
      ]
    },
    {
      "cell_type": "code",
      "execution_count": null,
      "metadata": {
        "colab": {
          "background_save": true
        },
        "id": "QoT578wvVPoo"
      },
      "outputs": [],
      "source": [
        "## Support Vector Machine\n",
        "M.SupportVectorMachine()"
      ]
    },
    {
      "cell_type": "code",
      "execution_count": null,
      "metadata": {
        "colab": {
          "background_save": true
        },
        "id": "jBcxF2Y2VPop"
      },
      "outputs": [],
      "source": [
        "M.RandomForest()"
      ]
    },
    {
      "cell_type": "code",
      "execution_count": null,
      "metadata": {
        "colab": {
          "background_save": true
        },
        "id": "mKn5blg3VPoq"
      },
      "outputs": [],
      "source": [
        "M.DecisionTree()"
      ]
    }
  ],
  "metadata": {
    "colab": {
      "collapsed_sections": [
        "0vzAUiklIZlj",
        "lWK6ucbNVPnR",
        "fRKJ3zGLVPod"
      ],
      "name": "Copy of ddos-attack-detection-classification (1).ipynb",
      "provenance": [],
      "include_colab_link": true
    },
    "kernelspec": {
      "display_name": "Python 3 (ipykernel)",
      "language": "python",
      "name": "python3"
    },
    "language_info": {
      "codemirror_mode": {
        "name": "ipython",
        "version": 3
      },
      "file_extension": ".py",
      "mimetype": "text/x-python",
      "name": "python",
      "nbconvert_exporter": "python",
      "pygments_lexer": "ipython3",
      "version": "3.9.7"
    }
  },
  "nbformat": 4,
  "nbformat_minor": 0
}